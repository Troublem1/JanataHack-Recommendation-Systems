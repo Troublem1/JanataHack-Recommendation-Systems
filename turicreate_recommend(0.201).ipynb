{
  "nbformat": 4,
  "nbformat_minor": 0,
  "metadata": {
    "colab": {
      "name": "turicreate.ipynb",
      "provenance": []
    },
    "kernelspec": {
      "name": "python3",
      "display_name": "Python 3"
    },
    "accelerator": "GPU"
  },
  "cells": [
    {
      "cell_type": "code",
      "metadata": {
        "id": "2r9FgZcuF9PT",
        "colab_type": "code",
        "colab": {}
      },
      "source": [
        "!pip install turicreate"
      ],
      "execution_count": null,
      "outputs": []
    },
    {
      "cell_type": "code",
      "metadata": {
        "id": "hAb18QNGtI-z",
        "colab_type": "code",
        "colab": {}
      },
      "source": [
        "import numpy as np\n",
        "import pandas as pd\n",
        "import gc \n",
        "pd.set_option('display.max_columns', 50)\n",
        "import warnings\n",
        "import turicreate as tc\n",
        "tc.config.set_num_gpus(1)\n",
        "warnings.filterwarnings(\"ignore\")"
      ],
      "execution_count": 3,
      "outputs": []
    },
    {
      "cell_type": "code",
      "metadata": {
        "id": "NrnPeCw7ttwu",
        "colab_type": "code",
        "colab": {}
      },
      "source": [
        "import scipy\n",
        "import matplotlib.pyplot as plt\n",
        "%matplotlib inline\n",
        "import seaborn as sns\n",
        "import numpy as np\n",
        "import random\n",
        "import datetime\n",
        "import warnings\n",
        "warnings.filterwarnings('ignore')\n",
        "from scipy import stats\n",
        "from sklearn.preprocessing import LabelEncoder"
      ],
      "execution_count": 4,
      "outputs": []
    },
    {
      "cell_type": "code",
      "metadata": {
        "id": "Bg6MX0FWtyUX",
        "colab_type": "code",
        "colab": {}
      },
      "source": [
        ""
      ],
      "execution_count": 4,
      "outputs": []
    },
    {
      "cell_type": "code",
      "metadata": {
        "id": "Mv-Ucj-it82G",
        "colab_type": "code",
        "colab": {}
      },
      "source": [
        "train = pd.read_csv('/content/drive/My Drive/Colab Notebooks/JanathaHack/RecommendationSystems/train.csv')\n",
        "test = pd.read_csv('/content/drive/My Drive/Colab Notebooks/JanathaHack/RecommendationSystems/test.csv')\n",
        "combine_set=pd.concat([train,test], ignore_index=True)\n",
        "challenge = pd.read_csv(\"/content/drive/My Drive/Colab Notebooks/JanathaHack/RecommendationSystems/challenge_data.csv\")\n",
        "le =LabelEncoder()\n",
        "challenge = challenge[[\"challenge\",\"programming_language\",\n",
        "                       \"challenge_series_ID\",\"total_submissions\",\n",
        "                       \"category_id\",\"publish_date\"]]\n",
        "challenge[\"challenge_series_ID\"] = le.fit_transform(challenge[\"challenge_series_ID\"].astype(str))\n",
        "challenge[\"total_submissions\"] = challenge[\"total_submissions\"].fillna(challenge[\"total_submissions\"].mean()).astype(int)\n",
        "challenge[\"category_id\"] = challenge[\"category_id\"].fillna(challenge[\"category_id\"].mean()).astype(int)\n",
        "challenge['publish_date'] = pd.DatetimeIndex(challenge['publish_date']).year\n",
        "\n",
        "\n",
        "mer_train = pd.merge(train,challenge,on=[\"challenge\"],how=\"left\")\n",
        "mer_test = pd.merge(test,challenge,on=[\"challenge\"],how=\"left\")\n",
        "mer_df = mer_train.append(mer_test).reset_index(drop=True)\n",
        "user_df = mer_df.groupby(\"user_id\")[\"challenge_series_ID\"].agg(lambda x: pd.Series.mode(x)[0]).to_frame()\n",
        "user_df = user_df.reset_index()\n",
        "user_df = tc.SFrame(user_df)\n",
        "challenge_df = tc.SFrame(challenge)"
      ],
      "execution_count": 6,
      "outputs": []
    },
    {
      "cell_type": "code",
      "metadata": {
        "id": "HiXE3z5gYug0",
        "colab_type": "code",
        "colab": {
          "base_uri": "https://localhost:8080/",
          "height": 425
        },
        "outputId": "650cd6e4-5a2d-4a5a-8e60-349f0e57bde8"
      },
      "source": [
        "combine_set_tc=tc.SFrame(combine_set)\n",
        "m=tc.item_similarity_recommender.create(combine_set_tc, user_id='user_id',\n",
        "                                                            item_id='challenge',\n",
        "                                                            target='challenge_sequence',\n",
        "                                                            user_data=user_df,\n",
        "                                                            item_data = challenge_df,\n",
        "                                                            similarity_type = \"cosine\",\n",
        "                                                            only_top_k=200,\n",
        "                                                            )"
      ],
      "execution_count": 7,
      "outputs": [
        {
          "output_type": "display_data",
          "data": {
            "text/html": [
              "<pre>Warning: Ignoring columns user_sequence;</pre>"
            ],
            "text/plain": [
              "Warning: Ignoring columns user_sequence;"
            ]
          },
          "metadata": {
            "tags": []
          }
        },
        {
          "output_type": "display_data",
          "data": {
            "text/html": [
              "<pre>    To use these columns in scoring predictions, use a model that allows the use of additional features.</pre>"
            ],
            "text/plain": [
              "    To use these columns in scoring predictions, use a model that allows the use of additional features."
            ]
          },
          "metadata": {
            "tags": []
          }
        },
        {
          "output_type": "display_data",
          "data": {
            "text/html": [
              "<pre>Preparing data set.</pre>"
            ],
            "text/plain": [
              "Preparing data set."
            ]
          },
          "metadata": {
            "tags": []
          }
        },
        {
          "output_type": "display_data",
          "data": {
            "text/html": [
              "<pre>    Data has 1301236 observations with 109264 users and 5606 items.</pre>"
            ],
            "text/plain": [
              "    Data has 1301236 observations with 109264 users and 5606 items."
            ]
          },
          "metadata": {
            "tags": []
          }
        },
        {
          "output_type": "display_data",
          "data": {
            "text/html": [
              "<pre>    Data prepared in: 1.32783s</pre>"
            ],
            "text/plain": [
              "    Data prepared in: 1.32783s"
            ]
          },
          "metadata": {
            "tags": []
          }
        },
        {
          "output_type": "display_data",
          "data": {
            "text/html": [
              "<pre>Training model from provided data.</pre>"
            ],
            "text/plain": [
              "Training model from provided data."
            ]
          },
          "metadata": {
            "tags": []
          }
        },
        {
          "output_type": "display_data",
          "data": {
            "text/html": [
              "<pre>Gathering per-item and per-user statistics.</pre>"
            ],
            "text/plain": [
              "Gathering per-item and per-user statistics."
            ]
          },
          "metadata": {
            "tags": []
          }
        },
        {
          "output_type": "display_data",
          "data": {
            "text/html": [
              "<pre>+--------------------------------+------------+</pre>"
            ],
            "text/plain": [
              "+--------------------------------+------------+"
            ]
          },
          "metadata": {
            "tags": []
          }
        },
        {
          "output_type": "display_data",
          "data": {
            "text/html": [
              "<pre>| Elapsed Time (Item Statistics) | % Complete |</pre>"
            ],
            "text/plain": [
              "| Elapsed Time (Item Statistics) | % Complete |"
            ]
          },
          "metadata": {
            "tags": []
          }
        },
        {
          "output_type": "display_data",
          "data": {
            "text/html": [
              "<pre>+--------------------------------+------------+</pre>"
            ],
            "text/plain": [
              "+--------------------------------+------------+"
            ]
          },
          "metadata": {
            "tags": []
          }
        },
        {
          "output_type": "display_data",
          "data": {
            "text/html": [
              "<pre>| 2.077ms                        | 0.75       |</pre>"
            ],
            "text/plain": [
              "| 2.077ms                        | 0.75       |"
            ]
          },
          "metadata": {
            "tags": []
          }
        },
        {
          "output_type": "display_data",
          "data": {
            "text/html": [
              "<pre>| 57.854ms                       | 100        |</pre>"
            ],
            "text/plain": [
              "| 57.854ms                       | 100        |"
            ]
          },
          "metadata": {
            "tags": []
          }
        },
        {
          "output_type": "display_data",
          "data": {
            "text/html": [
              "<pre>+--------------------------------+------------+</pre>"
            ],
            "text/plain": [
              "+--------------------------------+------------+"
            ]
          },
          "metadata": {
            "tags": []
          }
        },
        {
          "output_type": "display_data",
          "data": {
            "text/html": [
              "<pre>Setting up lookup tables.</pre>"
            ],
            "text/plain": [
              "Setting up lookup tables."
            ]
          },
          "metadata": {
            "tags": []
          }
        },
        {
          "output_type": "display_data",
          "data": {
            "text/html": [
              "<pre>Processing data in one pass using dense lookup tables.</pre>"
            ],
            "text/plain": [
              "Processing data in one pass using dense lookup tables."
            ]
          },
          "metadata": {
            "tags": []
          }
        },
        {
          "output_type": "display_data",
          "data": {
            "text/html": [
              "<pre>+-------------------------------------+------------------+-----------------+</pre>"
            ],
            "text/plain": [
              "+-------------------------------------+------------------+-----------------+"
            ]
          },
          "metadata": {
            "tags": []
          }
        },
        {
          "output_type": "display_data",
          "data": {
            "text/html": [
              "<pre>| Elapsed Time (Constructing Lookups) | Total % Complete | Items Processed |</pre>"
            ],
            "text/plain": [
              "| Elapsed Time (Constructing Lookups) | Total % Complete | Items Processed |"
            ]
          },
          "metadata": {
            "tags": []
          }
        },
        {
          "output_type": "display_data",
          "data": {
            "text/html": [
              "<pre>+-------------------------------------+------------------+-----------------+</pre>"
            ],
            "text/plain": [
              "+-------------------------------------+------------------+-----------------+"
            ]
          },
          "metadata": {
            "tags": []
          }
        },
        {
          "output_type": "display_data",
          "data": {
            "text/html": [
              "<pre>| 533.398ms                           | 0                | 0               |</pre>"
            ],
            "text/plain": [
              "| 533.398ms                           | 0                | 0               |"
            ]
          },
          "metadata": {
            "tags": []
          }
        },
        {
          "output_type": "display_data",
          "data": {
            "text/html": [
              "<pre>| 2.56s                               | 100              | 5606            |</pre>"
            ],
            "text/plain": [
              "| 2.56s                               | 100              | 5606            |"
            ]
          },
          "metadata": {
            "tags": []
          }
        },
        {
          "output_type": "display_data",
          "data": {
            "text/html": [
              "<pre>+-------------------------------------+------------------+-----------------+</pre>"
            ],
            "text/plain": [
              "+-------------------------------------+------------------+-----------------+"
            ]
          },
          "metadata": {
            "tags": []
          }
        },
        {
          "output_type": "display_data",
          "data": {
            "text/html": [
              "<pre>Finalizing lookup tables.</pre>"
            ],
            "text/plain": [
              "Finalizing lookup tables."
            ]
          },
          "metadata": {
            "tags": []
          }
        },
        {
          "output_type": "display_data",
          "data": {
            "text/html": [
              "<pre>Generating candidate set for working with new users.</pre>"
            ],
            "text/plain": [
              "Generating candidate set for working with new users."
            ]
          },
          "metadata": {
            "tags": []
          }
        },
        {
          "output_type": "display_data",
          "data": {
            "text/html": [
              "<pre>Finished training in 3.76601s</pre>"
            ],
            "text/plain": [
              "Finished training in 3.76601s"
            ]
          },
          "metadata": {
            "tags": []
          }
        }
      ]
    },
    {
      "cell_type": "code",
      "metadata": {
        "id": "Jz2U3PW_VkLs",
        "colab_type": "code",
        "colab": {
          "base_uri": "https://localhost:8080/",
          "height": 731
        },
        "outputId": "00812d99-421f-4a12-d66c-a61baf2d8dd6"
      },
      "source": [
        "results = m.recommend(test[\"user_id\"].unique().tolist(),k=3)[\"challenge\"]\n",
        "results[:10]"
      ],
      "execution_count": 8,
      "outputs": [
        {
          "output_type": "display_data",
          "data": {
            "text/html": [
              "<pre>recommendations finished on 1000/39732 queries. users per second: 8300</pre>"
            ],
            "text/plain": [
              "recommendations finished on 1000/39732 queries. users per second: 8300"
            ]
          },
          "metadata": {
            "tags": []
          }
        },
        {
          "output_type": "display_data",
          "data": {
            "text/html": [
              "<pre>recommendations finished on 2000/39732 queries. users per second: 8314.11</pre>"
            ],
            "text/plain": [
              "recommendations finished on 2000/39732 queries. users per second: 8314.11"
            ]
          },
          "metadata": {
            "tags": []
          }
        },
        {
          "output_type": "display_data",
          "data": {
            "text/html": [
              "<pre>recommendations finished on 3000/39732 queries. users per second: 8358.13</pre>"
            ],
            "text/plain": [
              "recommendations finished on 3000/39732 queries. users per second: 8358.13"
            ]
          },
          "metadata": {
            "tags": []
          }
        },
        {
          "output_type": "display_data",
          "data": {
            "text/html": [
              "<pre>recommendations finished on 4000/39732 queries. users per second: 8333.84</pre>"
            ],
            "text/plain": [
              "recommendations finished on 4000/39732 queries. users per second: 8333.84"
            ]
          },
          "metadata": {
            "tags": []
          }
        },
        {
          "output_type": "display_data",
          "data": {
            "text/html": [
              "<pre>recommendations finished on 5000/39732 queries. users per second: 8287.43</pre>"
            ],
            "text/plain": [
              "recommendations finished on 5000/39732 queries. users per second: 8287.43"
            ]
          },
          "metadata": {
            "tags": []
          }
        },
        {
          "output_type": "display_data",
          "data": {
            "text/html": [
              "<pre>recommendations finished on 6000/39732 queries. users per second: 8296.56</pre>"
            ],
            "text/plain": [
              "recommendations finished on 6000/39732 queries. users per second: 8296.56"
            ]
          },
          "metadata": {
            "tags": []
          }
        },
        {
          "output_type": "display_data",
          "data": {
            "text/html": [
              "<pre>recommendations finished on 7000/39732 queries. users per second: 8329.9</pre>"
            ],
            "text/plain": [
              "recommendations finished on 7000/39732 queries. users per second: 8329.9"
            ]
          },
          "metadata": {
            "tags": []
          }
        },
        {
          "output_type": "display_data",
          "data": {
            "text/html": [
              "<pre>recommendations finished on 8000/39732 queries. users per second: 8346.03</pre>"
            ],
            "text/plain": [
              "recommendations finished on 8000/39732 queries. users per second: 8346.03"
            ]
          },
          "metadata": {
            "tags": []
          }
        },
        {
          "output_type": "display_data",
          "data": {
            "text/html": [
              "<pre>recommendations finished on 9000/39732 queries. users per second: 8333.05</pre>"
            ],
            "text/plain": [
              "recommendations finished on 9000/39732 queries. users per second: 8333.05"
            ]
          },
          "metadata": {
            "tags": []
          }
        },
        {
          "output_type": "display_data",
          "data": {
            "text/html": [
              "<pre>recommendations finished on 10000/39732 queries. users per second: 8363.03</pre>"
            ],
            "text/plain": [
              "recommendations finished on 10000/39732 queries. users per second: 8363.03"
            ]
          },
          "metadata": {
            "tags": []
          }
        },
        {
          "output_type": "display_data",
          "data": {
            "text/html": [
              "<pre>recommendations finished on 11000/39732 queries. users per second: 8362.65</pre>"
            ],
            "text/plain": [
              "recommendations finished on 11000/39732 queries. users per second: 8362.65"
            ]
          },
          "metadata": {
            "tags": []
          }
        },
        {
          "output_type": "display_data",
          "data": {
            "text/html": [
              "<pre>recommendations finished on 12000/39732 queries. users per second: 8376.69</pre>"
            ],
            "text/plain": [
              "recommendations finished on 12000/39732 queries. users per second: 8376.69"
            ]
          },
          "metadata": {
            "tags": []
          }
        },
        {
          "output_type": "display_data",
          "data": {
            "text/html": [
              "<pre>recommendations finished on 13000/39732 queries. users per second: 8328.56</pre>"
            ],
            "text/plain": [
              "recommendations finished on 13000/39732 queries. users per second: 8328.56"
            ]
          },
          "metadata": {
            "tags": []
          }
        },
        {
          "output_type": "display_data",
          "data": {
            "text/html": [
              "<pre>recommendations finished on 14000/39732 queries. users per second: 8298.51</pre>"
            ],
            "text/plain": [
              "recommendations finished on 14000/39732 queries. users per second: 8298.51"
            ]
          },
          "metadata": {
            "tags": []
          }
        },
        {
          "output_type": "display_data",
          "data": {
            "text/html": [
              "<pre>recommendations finished on 15000/39732 queries. users per second: 8345.71</pre>"
            ],
            "text/plain": [
              "recommendations finished on 15000/39732 queries. users per second: 8345.71"
            ]
          },
          "metadata": {
            "tags": []
          }
        },
        {
          "output_type": "display_data",
          "data": {
            "text/html": [
              "<pre>recommendations finished on 16000/39732 queries. users per second: 8376.7</pre>"
            ],
            "text/plain": [
              "recommendations finished on 16000/39732 queries. users per second: 8376.7"
            ]
          },
          "metadata": {
            "tags": []
          }
        },
        {
          "output_type": "display_data",
          "data": {
            "text/html": [
              "<pre>recommendations finished on 17000/39732 queries. users per second: 8372.65</pre>"
            ],
            "text/plain": [
              "recommendations finished on 17000/39732 queries. users per second: 8372.65"
            ]
          },
          "metadata": {
            "tags": []
          }
        },
        {
          "output_type": "display_data",
          "data": {
            "text/html": [
              "<pre>recommendations finished on 18000/39732 queries. users per second: 8348.72</pre>"
            ],
            "text/plain": [
              "recommendations finished on 18000/39732 queries. users per second: 8348.72"
            ]
          },
          "metadata": {
            "tags": []
          }
        },
        {
          "output_type": "display_data",
          "data": {
            "text/html": [
              "<pre>recommendations finished on 19000/39732 queries. users per second: 8345.16</pre>"
            ],
            "text/plain": [
              "recommendations finished on 19000/39732 queries. users per second: 8345.16"
            ]
          },
          "metadata": {
            "tags": []
          }
        },
        {
          "output_type": "display_data",
          "data": {
            "text/html": [
              "<pre>recommendations finished on 20000/39732 queries. users per second: 8329.52</pre>"
            ],
            "text/plain": [
              "recommendations finished on 20000/39732 queries. users per second: 8329.52"
            ]
          },
          "metadata": {
            "tags": []
          }
        },
        {
          "output_type": "display_data",
          "data": {
            "text/html": [
              "<pre>recommendations finished on 21000/39732 queries. users per second: 8309.74</pre>"
            ],
            "text/plain": [
              "recommendations finished on 21000/39732 queries. users per second: 8309.74"
            ]
          },
          "metadata": {
            "tags": []
          }
        },
        {
          "output_type": "display_data",
          "data": {
            "text/html": [
              "<pre>recommendations finished on 22000/39732 queries. users per second: 8287</pre>"
            ],
            "text/plain": [
              "recommendations finished on 22000/39732 queries. users per second: 8287"
            ]
          },
          "metadata": {
            "tags": []
          }
        },
        {
          "output_type": "display_data",
          "data": {
            "text/html": [
              "<pre>recommendations finished on 23000/39732 queries. users per second: 8291.62</pre>"
            ],
            "text/plain": [
              "recommendations finished on 23000/39732 queries. users per second: 8291.62"
            ]
          },
          "metadata": {
            "tags": []
          }
        },
        {
          "output_type": "display_data",
          "data": {
            "text/html": [
              "<pre>recommendations finished on 24000/39732 queries. users per second: 8308.72</pre>"
            ],
            "text/plain": [
              "recommendations finished on 24000/39732 queries. users per second: 8308.72"
            ]
          },
          "metadata": {
            "tags": []
          }
        },
        {
          "output_type": "display_data",
          "data": {
            "text/html": [
              "<pre>recommendations finished on 25000/39732 queries. users per second: 8285.37</pre>"
            ],
            "text/plain": [
              "recommendations finished on 25000/39732 queries. users per second: 8285.37"
            ]
          },
          "metadata": {
            "tags": []
          }
        },
        {
          "output_type": "display_data",
          "data": {
            "text/html": [
              "<pre>recommendations finished on 26000/39732 queries. users per second: 8280.67</pre>"
            ],
            "text/plain": [
              "recommendations finished on 26000/39732 queries. users per second: 8280.67"
            ]
          },
          "metadata": {
            "tags": []
          }
        },
        {
          "output_type": "display_data",
          "data": {
            "text/html": [
              "<pre>recommendations finished on 27000/39732 queries. users per second: 8303.39</pre>"
            ],
            "text/plain": [
              "recommendations finished on 27000/39732 queries. users per second: 8303.39"
            ]
          },
          "metadata": {
            "tags": []
          }
        },
        {
          "output_type": "display_data",
          "data": {
            "text/html": [
              "<pre>recommendations finished on 28000/39732 queries. users per second: 8330.75</pre>"
            ],
            "text/plain": [
              "recommendations finished on 28000/39732 queries. users per second: 8330.75"
            ]
          },
          "metadata": {
            "tags": []
          }
        },
        {
          "output_type": "display_data",
          "data": {
            "text/html": [
              "<pre>recommendations finished on 29000/39732 queries. users per second: 8329.58</pre>"
            ],
            "text/plain": [
              "recommendations finished on 29000/39732 queries. users per second: 8329.58"
            ]
          },
          "metadata": {
            "tags": []
          }
        },
        {
          "output_type": "display_data",
          "data": {
            "text/html": [
              "<pre>recommendations finished on 30000/39732 queries. users per second: 8358.31</pre>"
            ],
            "text/plain": [
              "recommendations finished on 30000/39732 queries. users per second: 8358.31"
            ]
          },
          "metadata": {
            "tags": []
          }
        },
        {
          "output_type": "display_data",
          "data": {
            "text/html": [
              "<pre>recommendations finished on 31000/39732 queries. users per second: 8354.68</pre>"
            ],
            "text/plain": [
              "recommendations finished on 31000/39732 queries. users per second: 8354.68"
            ]
          },
          "metadata": {
            "tags": []
          }
        },
        {
          "output_type": "display_data",
          "data": {
            "text/html": [
              "<pre>recommendations finished on 32000/39732 queries. users per second: 8377.25</pre>"
            ],
            "text/plain": [
              "recommendations finished on 32000/39732 queries. users per second: 8377.25"
            ]
          },
          "metadata": {
            "tags": []
          }
        },
        {
          "output_type": "display_data",
          "data": {
            "text/html": [
              "<pre>recommendations finished on 33000/39732 queries. users per second: 8369.54</pre>"
            ],
            "text/plain": [
              "recommendations finished on 33000/39732 queries. users per second: 8369.54"
            ]
          },
          "metadata": {
            "tags": []
          }
        },
        {
          "output_type": "display_data",
          "data": {
            "text/html": [
              "<pre>recommendations finished on 34000/39732 queries. users per second: 8395.77</pre>"
            ],
            "text/plain": [
              "recommendations finished on 34000/39732 queries. users per second: 8395.77"
            ]
          },
          "metadata": {
            "tags": []
          }
        },
        {
          "output_type": "display_data",
          "data": {
            "text/html": [
              "<pre>recommendations finished on 35000/39732 queries. users per second: 8401.8</pre>"
            ],
            "text/plain": [
              "recommendations finished on 35000/39732 queries. users per second: 8401.8"
            ]
          },
          "metadata": {
            "tags": []
          }
        },
        {
          "output_type": "display_data",
          "data": {
            "text/html": [
              "<pre>recommendations finished on 36000/39732 queries. users per second: 8407.28</pre>"
            ],
            "text/plain": [
              "recommendations finished on 36000/39732 queries. users per second: 8407.28"
            ]
          },
          "metadata": {
            "tags": []
          }
        },
        {
          "output_type": "display_data",
          "data": {
            "text/html": [
              "<pre>recommendations finished on 37000/39732 queries. users per second: 8413.45</pre>"
            ],
            "text/plain": [
              "recommendations finished on 37000/39732 queries. users per second: 8413.45"
            ]
          },
          "metadata": {
            "tags": []
          }
        },
        {
          "output_type": "display_data",
          "data": {
            "text/html": [
              "<pre>recommendations finished on 38000/39732 queries. users per second: 8427.59</pre>"
            ],
            "text/plain": [
              "recommendations finished on 38000/39732 queries. users per second: 8427.59"
            ]
          },
          "metadata": {
            "tags": []
          }
        },
        {
          "output_type": "display_data",
          "data": {
            "text/html": [
              "<pre>recommendations finished on 39000/39732 queries. users per second: 8471.64</pre>"
            ],
            "text/plain": [
              "recommendations finished on 39000/39732 queries. users per second: 8471.64"
            ]
          },
          "metadata": {
            "tags": []
          }
        },
        {
          "output_type": "execute_result",
          "data": {
            "text/plain": [
              "dtype: str\n",
              "Rows: 10\n",
              "['CI23848', 'CI23691', 'CI25126', 'CI24530', 'CI23848', 'CI25126', 'CI26953', 'CI26959', 'CI26958', 'CI23648']"
            ]
          },
          "metadata": {
            "tags": []
          },
          "execution_count": 8
        }
      ]
    },
    {
      "cell_type": "code",
      "metadata": {
        "id": "Zhvk_EkD3Oo_",
        "colab_type": "code",
        "colab": {}
      },
      "source": [
        "submission_sample =pd.read_csv('/content/drive/My Drive/Colab Notebooks/JanathaHack/RecommendationSystems/sample_sub.csv')\n",
        "\n",
        "submission_sample[\"challenge\"] = np.array(results).reshape(-1,1)\n",
        "\n",
        "submission_sample.to_csv(\"submit_target.csv\",index=False)"
      ],
      "execution_count": 9,
      "outputs": []
    },
    {
      "cell_type": "code",
      "metadata": {
        "id": "yA7TeQdWSeQE",
        "colab_type": "code",
        "colab": {}
      },
      "source": [
        ""
      ],
      "execution_count": null,
      "outputs": []
    }
  ]
}