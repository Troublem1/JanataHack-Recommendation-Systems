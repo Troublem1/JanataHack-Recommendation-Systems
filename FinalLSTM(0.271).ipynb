{
  "nbformat": 4,
  "nbformat_minor": 0,
  "metadata": {
    "colab": {
      "name": "Recomm_Sys.ipynb",
      "provenance": [],
      "collapsed_sections": []
    },
    "kernelspec": {
      "name": "python3",
      "display_name": "Python 3"
    },
    "accelerator": "GPU"
  },
  "cells": [
    {
      "cell_type": "code",
      "metadata": {
        "id": "N8ka94H2Wozp",
        "colab_type": "code",
        "colab": {
          "base_uri": "https://localhost:8080/",
          "height": 122
        },
        "outputId": "18ee1c72-af06-4667-bf29-71380fbb797d"
      },
      "source": [
        "from google.colab import drive\n",
        "drive.mount('/content/drive')"
      ],
      "execution_count": 1,
      "outputs": [
        {
          "output_type": "stream",
          "text": [
            "Go to this URL in a browser: https://accounts.google.com/o/oauth2/auth?client_id=947318989803-6bn6qk8qdgf4n4g3pfee6491hc0brc4i.apps.googleusercontent.com&redirect_uri=urn%3aietf%3awg%3aoauth%3a2.0%3aoob&response_type=code&scope=email%20https%3a%2f%2fwww.googleapis.com%2fauth%2fdocs.test%20https%3a%2f%2fwww.googleapis.com%2fauth%2fdrive%20https%3a%2f%2fwww.googleapis.com%2fauth%2fdrive.photos.readonly%20https%3a%2f%2fwww.googleapis.com%2fauth%2fpeopleapi.readonly\n",
            "\n",
            "Enter your authorization code:\n",
            "··········\n",
            "Mounted at /content/drive\n"
          ],
          "name": "stdout"
        }
      ]
    },
    {
      "cell_type": "markdown",
      "metadata": {
        "id": "j_5l7X_q1XjH",
        "colab_type": "text"
      },
      "source": [
        "# Import Necessary libraries "
      ]
    },
    {
      "cell_type": "code",
      "metadata": {
        "id": "ZMY0ctjubZKZ",
        "colab_type": "code",
        "colab": {
          "base_uri": "https://localhost:8080/",
          "height": 34
        },
        "outputId": "7f878ef6-f54b-4cd4-96fc-44dde18d6f09"
      },
      "source": [
        "import pandas as pd\n",
        "import numpy as np\n",
        "from sklearn.model_selection import train_test_split\n",
        "from sklearn.preprocessing import LabelEncoder\n",
        "import tensorflow as tf\n",
        "from keras.preprocessing.text import Tokenizer\n",
        "from keras.preprocessing.sequence import pad_sequences\n",
        "from keras.models import Model\n",
        "from keras.layers import Dense,Embedding,LSTM,Dropout,Bidirectional,Input,BatchNormalization,SimpleRNN\n",
        "from keras.layers import Layer\n",
        "import keras.backend as K\n",
        "from keras.optimizers import Adam\n",
        "from keras.callbacks import EarlyStopping,ModelCheckpoint\n",
        "from tensorflow.python.keras import metrics\n",
        "tf. executing_eagerly()"
      ],
      "execution_count": 99,
      "outputs": [
        {
          "output_type": "execute_result",
          "data": {
            "text/plain": [
              "True"
            ]
          },
          "metadata": {
            "tags": []
          },
          "execution_count": 99
        }
      ]
    },
    {
      "cell_type": "markdown",
      "metadata": {
        "id": "uj2vzc-L46-k",
        "colab_type": "text"
      },
      "source": [
        "# Define MAP Metric"
      ]
    },
    {
      "cell_type": "code",
      "metadata": {
        "id": "WTUUpLBA42kN",
        "colab_type": "code",
        "colab": {}
      },
      "source": [
        "def apk(actual, predicted, k=3):\n",
        "    \n",
        "    actual = list(actual)\n",
        "    predicted = list(predicted)\n",
        "    \n",
        "    if len(predicted)>k:\n",
        "        predicted = predicted[:k]\n",
        "\n",
        "    score = 0.0\n",
        "    num_hits = 0.0\n",
        "\n",
        "    for i,p in enumerate(predicted):\n",
        "        if p in actual and p not in predicted[:i]:\n",
        "            num_hits += 1.0\n",
        "            score += num_hits / (i+1.0)\n",
        "            \n",
        "    if not actual:\n",
        "        return 0.0\n",
        "\n",
        "    return score / min(len(actual), k)\n",
        "\n",
        "def mapk(actual, predicted, k=3):\n",
        "    return np.mean([apk(a,p,k) for a,p in zip(actual, predicted)])"
      ],
      "execution_count": 278,
      "outputs": []
    },
    {
      "cell_type": "markdown",
      "metadata": {
        "id": "XFp8JX2E1jVh",
        "colab_type": "text"
      },
      "source": [
        "# Read the Data"
      ]
    },
    {
      "cell_type": "code",
      "metadata": {
        "id": "bpQEbkNoLjuU",
        "colab_type": "code",
        "colab": {}
      },
      "source": [
        "train = pd.read_csv('/content/drive/My Drive/Colab Notebooks/JanathaHack/RecommendationSystems/train.csv')\n",
        "test = pd.read_csv('/content/drive/My Drive/Colab Notebooks/JanathaHack/RecommendationSystems/test.csv')\n",
        "\n",
        "label = train[train.challenge_sequence > 10][['user_id','challenge']]\n",
        "label.rename(columns={'challenge':'label'},inplace=True)\n",
        "\n",
        "temp = train[train.challenge_sequence <= 10]\n",
        "df = temp.groupby('user_id')[\"challenge\"].agg(lambda x: ' '.join(x)).reset_index()\n",
        "\n",
        "df = df.merge(label)"
      ],
      "execution_count": 62,
      "outputs": []
    },
    {
      "cell_type": "code",
      "metadata": {
        "id": "a0m4U2_i7Y0m",
        "colab_type": "code",
        "colab": {
          "base_uri": "https://localhost:8080/",
          "height": 419
        },
        "outputId": "3557457f-4b8e-4ed6-c46c-098dc489e861"
      },
      "source": [
        "df"
      ],
      "execution_count": 63,
      "outputs": [
        {
          "output_type": "execute_result",
          "data": {
            "text/html": [
              "<div>\n",
              "<style scoped>\n",
              "    .dataframe tbody tr th:only-of-type {\n",
              "        vertical-align: middle;\n",
              "    }\n",
              "\n",
              "    .dataframe tbody tr th {\n",
              "        vertical-align: top;\n",
              "    }\n",
              "\n",
              "    .dataframe thead th {\n",
              "        text-align: right;\n",
              "    }\n",
              "</style>\n",
              "<table border=\"1\" class=\"dataframe\">\n",
              "  <thead>\n",
              "    <tr style=\"text-align: right;\">\n",
              "      <th></th>\n",
              "      <th>user_id</th>\n",
              "      <th>challenge</th>\n",
              "      <th>label</th>\n",
              "    </tr>\n",
              "  </thead>\n",
              "  <tbody>\n",
              "    <tr>\n",
              "      <th>0</th>\n",
              "      <td>4576</td>\n",
              "      <td>CI23714 CI23855 CI24917 CI23663 CI23933 CI2513...</td>\n",
              "      <td>CI24958</td>\n",
              "    </tr>\n",
              "    <tr>\n",
              "      <th>1</th>\n",
              "      <td>4576</td>\n",
              "      <td>CI23714 CI23855 CI24917 CI23663 CI23933 CI2513...</td>\n",
              "      <td>CI23667</td>\n",
              "    </tr>\n",
              "    <tr>\n",
              "      <th>2</th>\n",
              "      <td>4576</td>\n",
              "      <td>CI23714 CI23855 CI24917 CI23663 CI23933 CI2513...</td>\n",
              "      <td>CI23691</td>\n",
              "    </tr>\n",
              "    <tr>\n",
              "      <th>3</th>\n",
              "      <td>4580</td>\n",
              "      <td>CI23663 CI23855 CI23933 CI23975 CI24530 CI2371...</td>\n",
              "      <td>CI24915</td>\n",
              "    </tr>\n",
              "    <tr>\n",
              "      <th>4</th>\n",
              "      <td>4580</td>\n",
              "      <td>CI23663 CI23855 CI23933 CI23975 CI24530 CI2371...</td>\n",
              "      <td>CI25727</td>\n",
              "    </tr>\n",
              "    <tr>\n",
              "      <th>...</th>\n",
              "      <td>...</td>\n",
              "      <td>...</td>\n",
              "      <td>...</td>\n",
              "    </tr>\n",
              "    <tr>\n",
              "      <th>208591</th>\n",
              "      <td>113837</td>\n",
              "      <td>CI23880 CI23933 CI26052 CI24866 CI25049 CI2567...</td>\n",
              "      <td>CI23990</td>\n",
              "    </tr>\n",
              "    <tr>\n",
              "      <th>208592</th>\n",
              "      <td>113837</td>\n",
              "      <td>CI23880 CI23933 CI26052 CI24866 CI25049 CI2567...</td>\n",
              "      <td>CI25674</td>\n",
              "    </tr>\n",
              "    <tr>\n",
              "      <th>208593</th>\n",
              "      <td>113839</td>\n",
              "      <td>CI24915 CI24931 CI24954 CI24968 CI24957 CI2572...</td>\n",
              "      <td>CI28610</td>\n",
              "    </tr>\n",
              "    <tr>\n",
              "      <th>208594</th>\n",
              "      <td>113839</td>\n",
              "      <td>CI24915 CI24931 CI24954 CI24968 CI24957 CI2572...</td>\n",
              "      <td>CI26388</td>\n",
              "    </tr>\n",
              "    <tr>\n",
              "      <th>208595</th>\n",
              "      <td>113839</td>\n",
              "      <td>CI24915 CI24931 CI24954 CI24968 CI24957 CI2572...</td>\n",
              "      <td>CI28630</td>\n",
              "    </tr>\n",
              "  </tbody>\n",
              "</table>\n",
              "<p>208596 rows × 3 columns</p>\n",
              "</div>"
            ],
            "text/plain": [
              "        user_id                                          challenge    label\n",
              "0          4576  CI23714 CI23855 CI24917 CI23663 CI23933 CI2513...  CI24958\n",
              "1          4576  CI23714 CI23855 CI24917 CI23663 CI23933 CI2513...  CI23667\n",
              "2          4576  CI23714 CI23855 CI24917 CI23663 CI23933 CI2513...  CI23691\n",
              "3          4580  CI23663 CI23855 CI23933 CI23975 CI24530 CI2371...  CI24915\n",
              "4          4580  CI23663 CI23855 CI23933 CI23975 CI24530 CI2371...  CI25727\n",
              "...         ...                                                ...      ...\n",
              "208591   113837  CI23880 CI23933 CI26052 CI24866 CI25049 CI2567...  CI23990\n",
              "208592   113837  CI23880 CI23933 CI26052 CI24866 CI25049 CI2567...  CI25674\n",
              "208593   113839  CI24915 CI24931 CI24954 CI24968 CI24957 CI2572...  CI28610\n",
              "208594   113839  CI24915 CI24931 CI24954 CI24968 CI24957 CI2572...  CI26388\n",
              "208595   113839  CI24915 CI24931 CI24954 CI24968 CI24957 CI2572...  CI28630\n",
              "\n",
              "[208596 rows x 3 columns]"
            ]
          },
          "metadata": {
            "tags": []
          },
          "execution_count": 63
        }
      ]
    },
    {
      "cell_type": "code",
      "metadata": {
        "id": "y2OtCukdM2jb",
        "colab_type": "code",
        "colab": {}
      },
      "source": [
        "df_train, df_validation = df.iloc[:200001].reset_index(drop=True),df.iloc[200001:].reset_index(drop=True)\n",
        "\n",
        "challenges= pd.read_csv(\"/content/drive/My Drive/Colab Notebooks/JanathaHack/RecommendationSystems/challenge_data.csv\")"
      ],
      "execution_count": 282,
      "outputs": []
    },
    {
      "cell_type": "code",
      "metadata": {
        "id": "atQgICnU5UCH",
        "colab_type": "code",
        "colab": {
          "base_uri": "https://localhost:8080/",
          "height": 419
        },
        "outputId": "71a6a8de-f08f-41fa-a60d-6190731f6478"
      },
      "source": [
        "df_train"
      ],
      "execution_count": 283,
      "outputs": [
        {
          "output_type": "execute_result",
          "data": {
            "text/html": [
              "<div>\n",
              "<style scoped>\n",
              "    .dataframe tbody tr th:only-of-type {\n",
              "        vertical-align: middle;\n",
              "    }\n",
              "\n",
              "    .dataframe tbody tr th {\n",
              "        vertical-align: top;\n",
              "    }\n",
              "\n",
              "    .dataframe thead th {\n",
              "        text-align: right;\n",
              "    }\n",
              "</style>\n",
              "<table border=\"1\" class=\"dataframe\">\n",
              "  <thead>\n",
              "    <tr style=\"text-align: right;\">\n",
              "      <th></th>\n",
              "      <th>user_id</th>\n",
              "      <th>challenge</th>\n",
              "      <th>label</th>\n",
              "      <th>brand_id_encoded</th>\n",
              "    </tr>\n",
              "  </thead>\n",
              "  <tbody>\n",
              "    <tr>\n",
              "      <th>0</th>\n",
              "      <td>4576</td>\n",
              "      <td>CI23714 CI23855 CI24917 CI23663 CI23933 CI2513...</td>\n",
              "      <td>CI24958</td>\n",
              "      <td>1480</td>\n",
              "    </tr>\n",
              "    <tr>\n",
              "      <th>1</th>\n",
              "      <td>4576</td>\n",
              "      <td>CI23714 CI23855 CI24917 CI23663 CI23933 CI2513...</td>\n",
              "      <td>CI23667</td>\n",
              "      <td>189</td>\n",
              "    </tr>\n",
              "    <tr>\n",
              "      <th>2</th>\n",
              "      <td>4576</td>\n",
              "      <td>CI23714 CI23855 CI24917 CI23663 CI23933 CI2513...</td>\n",
              "      <td>CI23691</td>\n",
              "      <td>213</td>\n",
              "    </tr>\n",
              "    <tr>\n",
              "      <th>3</th>\n",
              "      <td>4580</td>\n",
              "      <td>CI23663 CI23855 CI23933 CI23975 CI24530 CI2371...</td>\n",
              "      <td>CI24915</td>\n",
              "      <td>1437</td>\n",
              "    </tr>\n",
              "    <tr>\n",
              "      <th>4</th>\n",
              "      <td>4580</td>\n",
              "      <td>CI23663 CI23855 CI23933 CI23975 CI24530 CI2371...</td>\n",
              "      <td>CI25727</td>\n",
              "      <td>2249</td>\n",
              "    </tr>\n",
              "    <tr>\n",
              "      <th>...</th>\n",
              "      <td>...</td>\n",
              "      <td>...</td>\n",
              "      <td>...</td>\n",
              "      <td>...</td>\n",
              "    </tr>\n",
              "    <tr>\n",
              "      <th>199996</th>\n",
              "      <td>109337</td>\n",
              "      <td>CI27778 CI27809 CI27811 CI27782 CI27779 CI2778...</td>\n",
              "      <td>CI27794</td>\n",
              "      <td>4316</td>\n",
              "    </tr>\n",
              "    <tr>\n",
              "      <th>199997</th>\n",
              "      <td>109337</td>\n",
              "      <td>CI27778 CI27809 CI27811 CI27782 CI27779 CI2778...</td>\n",
              "      <td>CI27797</td>\n",
              "      <td>4319</td>\n",
              "    </tr>\n",
              "    <tr>\n",
              "      <th>199998</th>\n",
              "      <td>109340</td>\n",
              "      <td>CI24876 CI24902 CI24908 CI24907 CI24960 CI2369...</td>\n",
              "      <td>CI25015</td>\n",
              "      <td>1537</td>\n",
              "    </tr>\n",
              "    <tr>\n",
              "      <th>199999</th>\n",
              "      <td>109340</td>\n",
              "      <td>CI24876 CI24902 CI24908 CI24907 CI24960 CI2369...</td>\n",
              "      <td>CI25111</td>\n",
              "      <td>1633</td>\n",
              "    </tr>\n",
              "    <tr>\n",
              "      <th>200000</th>\n",
              "      <td>109340</td>\n",
              "      <td>CI24876 CI24902 CI24908 CI24907 CI24960 CI2369...</td>\n",
              "      <td>CI24832</td>\n",
              "      <td>1354</td>\n",
              "    </tr>\n",
              "  </tbody>\n",
              "</table>\n",
              "<p>200001 rows × 4 columns</p>\n",
              "</div>"
            ],
            "text/plain": [
              "        user_id  ... brand_id_encoded\n",
              "0          4576  ...             1480\n",
              "1          4576  ...              189\n",
              "2          4576  ...              213\n",
              "3          4580  ...             1437\n",
              "4          4580  ...             2249\n",
              "...         ...  ...              ...\n",
              "199996   109337  ...             4316\n",
              "199997   109337  ...             4319\n",
              "199998   109340  ...             1537\n",
              "199999   109340  ...             1633\n",
              "200000   109340  ...             1354\n",
              "\n",
              "[200001 rows x 4 columns]"
            ]
          },
          "metadata": {
            "tags": []
          },
          "execution_count": 283
        }
      ]
    },
    {
      "cell_type": "markdown",
      "metadata": {
        "id": "SeyrirV81oP6",
        "colab_type": "text"
      },
      "source": [
        "# Encoding Challenges"
      ]
    },
    {
      "cell_type": "code",
      "metadata": {
        "id": "Q6-UrU2GLy2R",
        "colab_type": "code",
        "colab": {}
      },
      "source": [
        "encoder = LabelEncoder()\n",
        "encoder.fit(challenges['challenge'].astype(str))\n",
        "df_train['brand_id_encoded'] = encoder.transform(df_train.label)\n",
        "df_validation['brand_id_encoded'] = encoder.transform(df_validation.label)\n",
        "df[\"brand_id_encoded\"] = encoder.transform(df.label)"
      ],
      "execution_count": 284,
      "outputs": []
    },
    {
      "cell_type": "code",
      "metadata": {
        "id": "dN3RNiUPZ_nw",
        "colab_type": "code",
        "colab": {
          "base_uri": "https://localhost:8080/",
          "height": 34
        },
        "outputId": "64bd95e1-b7c7-466b-a5a8-862eb959a6c6"
      },
      "source": [
        "challenges.shape"
      ],
      "execution_count": 285,
      "outputs": [
        {
          "output_type": "execute_result",
          "data": {
            "text/plain": [
              "(5606, 9)"
            ]
          },
          "metadata": {
            "tags": []
          },
          "execution_count": 285
        }
      ]
    },
    {
      "cell_type": "markdown",
      "metadata": {
        "id": "qZHrsViF1t7Q",
        "colab_type": "text"
      },
      "source": [
        "# Tokenizing Challenges"
      ]
    },
    {
      "cell_type": "code",
      "metadata": {
        "id": "upNhomZOL_ea",
        "colab_type": "code",
        "colab": {}
      },
      "source": [
        "tokenizer = Tokenizer()\n",
        "tokenizer.fit_on_texts(df_train['challenge'])\n",
        "\n",
        "TotalWords = len(tokenizer.word_index)\n",
        "MAX_SEQUENCE_LENGTH = 10\n",
        "N_CATEGORIES = challenges.shape[0]\n",
        "\n",
        "sequences_train = tokenizer.texts_to_sequences(df_train['challenge'])\n",
        "sequences_validation = tokenizer.texts_to_sequences(df_validation['challenge'])"
      ],
      "execution_count": 286,
      "outputs": []
    },
    {
      "cell_type": "markdown",
      "metadata": {
        "id": "T10zGttN1zcw",
        "colab_type": "text"
      },
      "source": [
        "# Padding sequences (not necessary)"
      ]
    },
    {
      "cell_type": "code",
      "metadata": {
        "id": "yQmbwrWkN2Sk",
        "colab_type": "code",
        "colab": {}
      },
      "source": [
        "#just to make it in to numpy array\n",
        "x_train = pad_sequences(sequences_train, maxlen=MAX_SEQUENCE_LENGTH, padding='post', truncating='post')\n",
        "x_validation = pad_sequences(sequences_validation, maxlen=MAX_SEQUENCE_LENGTH, padding='post', truncating='post')\n",
        "\n",
        "y_train = df_train['brand_id_encoded'].values\n",
        "y_validation= df_validation['brand_id_encoded'].values"
      ],
      "execution_count": 287,
      "outputs": []
    },
    {
      "cell_type": "code",
      "metadata": {
        "id": "DShxFYjO24ei",
        "colab_type": "code",
        "colab": {}
      },
      "source": [
        "#--------------------For whole Data-------------------------\n",
        "tokenizer.fit_on_texts(df['challenge'])\n",
        "sequences_whole_train = tokenizer.texts_to_sequences(df['challenge'])\n",
        "whole_xtrain = pad_sequences(sequences_whole_train, maxlen=10, padding='post', truncating='post')\n",
        "whole_ytrain = df['brand_id_encoded'].values\n",
        "#------------------------------------------------------------"
      ],
      "execution_count": null,
      "outputs": []
    },
    {
      "cell_type": "code",
      "metadata": {
        "id": "N4aeoG8k2Izz",
        "colab_type": "code",
        "colab": {
          "base_uri": "https://localhost:8080/",
          "height": 187
        },
        "outputId": "7ad81723-bc17-4e94-b1f6-941397c78ea4"
      },
      "source": [
        "x_train[:10]"
      ],
      "execution_count": 276,
      "outputs": [
        {
          "output_type": "execute_result",
          "data": {
            "text/plain": [
              "array([[  3,   1,   2,   4,   6,   8,  17,  11,  14,  37],\n",
              "       [  3,   1,   2,   4,   6,   8,  17,  11,  14,  37],\n",
              "       [  3,   1,   2,   4,   6,   8,  17,  11,  14,  37],\n",
              "       [  4,   1,   6,  17,   7,   3,  19,  76,  36,   8],\n",
              "       [  4,   1,   6,  17,   7,   3,  19,  76,  36,   8],\n",
              "       [  4,   1,   6,  17,   7,   3,  19,  76,  36,   8],\n",
              "       [186, 243, 213, 219, 223, 250, 280, 202, 162, 184],\n",
              "       [186, 243, 213, 219, 223, 250, 280, 202, 162, 184],\n",
              "       [186, 243, 213, 219, 223, 250, 280, 202, 162, 184],\n",
              "       [  1,  14,   2,   6,   4,   5,  17,   3,  29, 105]], dtype=int32)"
            ]
          },
          "metadata": {
            "tags": []
          },
          "execution_count": 276
        }
      ]
    },
    {
      "cell_type": "code",
      "metadata": {
        "id": "3Z00iBEU2Ltr",
        "colab_type": "code",
        "colab": {
          "base_uri": "https://localhost:8080/",
          "height": 34
        },
        "outputId": "aa0a6e65-527b-4707-eca6-519fe33f36df"
      },
      "source": [
        "y_train[:10]"
      ],
      "execution_count": 277,
      "outputs": [
        {
          "output_type": "execute_result",
          "data": {
            "text/plain": [
              "array([1480,  189,  213, 1437, 2249, 2573, 2685, 2688, 2689, 1657])"
            ]
          },
          "metadata": {
            "tags": []
          },
          "execution_count": 277
        }
      ]
    },
    {
      "cell_type": "code",
      "metadata": {
        "id": "ndCXakALZdcw",
        "colab_type": "code",
        "colab": {
          "base_uri": "https://localhost:8080/",
          "height": 34
        },
        "outputId": "9300ebd2-cf65-41d0-a1fd-d6e24416c75e"
      },
      "source": [
        "#inputX\n",
        "display(x_train.shape)\n",
        "#inputY\n",
        "y_train.shape"
      ],
      "execution_count": 244,
      "outputs": [
        {
          "output_type": "execute_result",
          "data": {
            "text/plain": [
              "((200000, 10), (200000,))"
            ]
          },
          "metadata": {
            "tags": []
          },
          "execution_count": 244
        }
      ]
    },
    {
      "cell_type": "code",
      "metadata": {
        "id": "j2VBb1TBa7uR",
        "colab_type": "code",
        "colab": {
          "base_uri": "https://localhost:8080/",
          "height": 34
        },
        "outputId": "ac456358-fc50-40d5-b0ae-c1a42c492fca"
      },
      "source": [
        "y_train"
      ],
      "execution_count": 245,
      "outputs": [
        {
          "output_type": "execute_result",
          "data": {
            "text/plain": [
              "array([1480,  189,  213, ..., 4319, 1537, 1633])"
            ]
          },
          "metadata": {
            "tags": []
          },
          "execution_count": 245
        }
      ]
    },
    {
      "cell_type": "markdown",
      "metadata": {
        "id": "HkkvX2WL3hXg",
        "colab_type": "text"
      },
      "source": [
        "# Testing different layers with Train and Val"
      ]
    },
    {
      "cell_type": "markdown",
      "metadata": {
        "id": "6vQFsK8knrlx",
        "colab_type": "text"
      },
      "source": [
        "### Using Attention"
      ]
    },
    {
      "cell_type": "code",
      "metadata": {
        "id": "kM7Orop-Qqdm",
        "colab_type": "code",
        "colab": {}
      },
      "source": [
        "class attention(Layer):\n",
        "    def __init__(self,**kwargs):\n",
        "        super(attention,self).__init__(**kwargs)\n",
        "\n",
        "    def build(self,input_shape):\n",
        "        self.W=self.add_weight(name=\"att_weight\",shape=(input_shape[-1],1),initializer=\"normal\")\n",
        "        self.b=self.add_weight(name=\"att_bias\",shape=(input_shape[1],1),initializer=\"zeros\")        \n",
        "        super(attention, self).build(input_shape)\n",
        "\n",
        "    def call(self,x):\n",
        "        et=K.squeeze(K.tanh(K.dot(x,self.W)+self.b),axis=-1)\n",
        "        at=K.softmax(et)\n",
        "        at=K.expand_dims(at,axis=-1)\n",
        "        output=x*at\n",
        "        return K.sum(output,axis=1)\n",
        "\n",
        "    def compute_output_shape(self,input_shape):\n",
        "        return (input_shape[0],input_shape[-1])\n",
        "\n",
        "    def get_config(self):\n",
        "        return super(attention,self).get_config()"
      ],
      "execution_count": 262,
      "outputs": []
    },
    {
      "cell_type": "code",
      "metadata": {
        "id": "Uz_6aBoZN46q",
        "colab_type": "code",
        "colab": {}
      },
      "source": [
        "def get_model(path='',lr=0.002):\n",
        "        adam = Adam(lr=lr,beta_1=0.5)\n",
        "        inp = Input(shape=(MAX_SEQUENCE_LENGTH, ))\n",
        "        x = Embedding(TotalWords+1,256)(inp)\n",
        "        x = BatchNormalization()(x)\n",
        "        x = Bidirectional(LSTM(256,  return_sequences=True, recurrent_dropout=0.1))(x)\n",
        "        # x = Bidirectional(LSTM(32, dropout=0.1, return_sequences=True, recurrent_dropout=0.1))(x)\n",
        "        # x = Bidirectional(LSTM(128, return_sequences=True, recurrent_dropout=0.1))(x)\n",
        "        # x = SimpleRNN(128,dropout=0.1,recurrent_dropout=0.1, return_sequences=True)(x)\n",
        "        x = attention()(x)\n",
        "        x = Dropout(0.1)(x)\n",
        "        x = Dense(N_CATEGORIES, activation=\"softmax\")(x)\n",
        "        model = Model(inputs=inp, outputs=x)\n",
        "        if path != '':\n",
        "            model.load_weights(path)\n",
        "        model.compile(loss='sparse_categorical_crossentropy', optimizer=adam, metrics=[\"accuracy\"])\n",
        "        return model"
      ],
      "execution_count": 336,
      "outputs": []
    },
    {
      "cell_type": "code",
      "metadata": {
        "id": "VzeJWRYZOFuJ",
        "colab_type": "code",
        "colab": {}
      },
      "source": [
        "model = get_model()\n",
        "\n",
        "path = 'best_model_weights2'\n",
        "es_callback = EarlyStopping(monitor=\"val_loss\", patience=5)\n",
        "mc_callback = ModelCheckpoint(f'{path}.hdf5', monitor='val_loss',\n",
        "                              verbose=0, save_best_only=True, save_weights_only=True,\n",
        "                              mode='auto', period=1)\n",
        "callbacks = [es_callback,mc_callback]"
      ],
      "execution_count": 337,
      "outputs": []
    },
    {
      "cell_type": "code",
      "metadata": {
        "id": "8FIo4mzROJ_o",
        "colab_type": "code",
        "colab": {
          "base_uri": "https://localhost:8080/",
          "height": 751
        },
        "outputId": "307d4582-d742-403f-8a74-fb72b1cf242e"
      },
      "source": [
        "model.fit(x_train,\n",
        "              y_train,\n",
        "              epochs=20,\n",
        "              batch_size=4100,\n",
        "              validation_data=(x_validation, y_validation),\n",
        "              callbacks = callbacks\n",
        "              )"
      ],
      "execution_count": 338,
      "outputs": [
        {
          "output_type": "stream",
          "text": [
            "/usr/local/lib/python3.6/dist-packages/tensorflow/python/framework/indexed_slices.py:434: UserWarning: Converting sparse IndexedSlices to a dense Tensor of unknown shape. This may consume a large amount of memory.\n",
            "  \"Converting sparse IndexedSlices to a dense Tensor of unknown shape. \"\n"
          ],
          "name": "stderr"
        },
        {
          "output_type": "stream",
          "text": [
            "Train on 200001 samples, validate on 8595 samples\n",
            "Epoch 1/20\n",
            "200001/200001 [==============================] - 9s 47us/step - loss: 5.8962 - accuracy: 0.0379 - val_loss: 6.2910 - val_accuracy: 0.0212\n",
            "Epoch 2/20\n",
            "200001/200001 [==============================] - 9s 43us/step - loss: 4.7035 - accuracy: 0.0685 - val_loss: 5.8073 - val_accuracy: 0.0344\n",
            "Epoch 3/20\n",
            "200001/200001 [==============================] - 9s 43us/step - loss: 4.2839 - accuracy: 0.0946 - val_loss: 5.3700 - val_accuracy: 0.0531\n",
            "Epoch 4/20\n",
            "200001/200001 [==============================] - 9s 43us/step - loss: 3.9574 - accuracy: 0.1183 - val_loss: 5.1843 - val_accuracy: 0.0663\n",
            "Epoch 5/20\n",
            "200001/200001 [==============================] - 9s 44us/step - loss: 3.7001 - accuracy: 0.1354 - val_loss: 4.9469 - val_accuracy: 0.0810\n",
            "Epoch 6/20\n",
            "200001/200001 [==============================] - 9s 44us/step - loss: 3.5001 - accuracy: 0.1494 - val_loss: 4.8675 - val_accuracy: 0.0905\n",
            "Epoch 7/20\n",
            "200001/200001 [==============================] - 9s 44us/step - loss: 3.3344 - accuracy: 0.1606 - val_loss: 4.7727 - val_accuracy: 0.0980\n",
            "Epoch 8/20\n",
            "200001/200001 [==============================] - 9s 45us/step - loss: 3.1975 - accuracy: 0.1697 - val_loss: 4.6704 - val_accuracy: 0.1016\n",
            "Epoch 9/20\n",
            "200001/200001 [==============================] - 9s 45us/step - loss: 3.0829 - accuracy: 0.1761 - val_loss: 4.5842 - val_accuracy: 0.1190\n",
            "Epoch 10/20\n",
            "200001/200001 [==============================] - 9s 45us/step - loss: 2.9813 - accuracy: 0.1801 - val_loss: 4.5000 - val_accuracy: 0.1244\n",
            "Epoch 11/20\n",
            "200001/200001 [==============================] - 9s 46us/step - loss: 2.8953 - accuracy: 0.1859 - val_loss: 4.4249 - val_accuracy: 0.1302\n",
            "Epoch 12/20\n",
            "200001/200001 [==============================] - 9s 46us/step - loss: 2.8164 - accuracy: 0.1901 - val_loss: 4.3920 - val_accuracy: 0.1337\n",
            "Epoch 13/20\n",
            "200001/200001 [==============================] - 9s 46us/step - loss: 2.7494 - accuracy: 0.1937 - val_loss: 4.3760 - val_accuracy: 0.1353\n",
            "Epoch 14/20\n",
            "200001/200001 [==============================] - 9s 46us/step - loss: 2.6873 - accuracy: 0.1972 - val_loss: 4.3610 - val_accuracy: 0.1341\n",
            "Epoch 15/20\n",
            "200001/200001 [==============================] - 9s 46us/step - loss: 2.6348 - accuracy: 0.1988 - val_loss: 4.3714 - val_accuracy: 0.1353\n",
            "Epoch 16/20\n",
            "200001/200001 [==============================] - 9s 46us/step - loss: 2.5854 - accuracy: 0.2006 - val_loss: 4.3856 - val_accuracy: 0.1351\n",
            "Epoch 17/20\n",
            "200001/200001 [==============================] - 9s 46us/step - loss: 2.5433 - accuracy: 0.2033 - val_loss: 4.3624 - val_accuracy: 0.1400\n",
            "Epoch 18/20\n",
            "200001/200001 [==============================] - 9s 45us/step - loss: 2.5017 - accuracy: 0.2054 - val_loss: 4.3982 - val_accuracy: 0.1340\n",
            "Epoch 19/20\n",
            "200001/200001 [==============================] - 9s 46us/step - loss: 2.4596 - accuracy: 0.2089 - val_loss: 4.4023 - val_accuracy: 0.1358\n"
          ],
          "name": "stdout"
        },
        {
          "output_type": "execute_result",
          "data": {
            "text/plain": [
              "<keras.callbacks.callbacks.History at 0x7f7aa9004748>"
            ]
          },
          "metadata": {
            "tags": []
          },
          "execution_count": 338
        }
      ]
    },
    {
      "cell_type": "code",
      "metadata": {
        "id": "CYC-S4xzkc12",
        "colab_type": "code",
        "colab": {}
      },
      "source": [
        "#val-loss\n",
        "# 4.4514    \n",
        "# 4.3398 - best"
      ],
      "execution_count": null,
      "outputs": []
    },
    {
      "cell_type": "code",
      "metadata": {
        "id": "Rh1Aqf757inM",
        "colab_type": "code",
        "colab": {}
      },
      "source": [
        "val_data_for_pred = x_validation[0::3]# getting only 1 sequence\n",
        "val_result_for_pred = y_validation.reshape(-1,3)"
      ],
      "execution_count": 339,
      "outputs": []
    },
    {
      "cell_type": "code",
      "metadata": {
        "id": "nCwtum525PDa",
        "colab_type": "code",
        "colab": {
          "base_uri": "https://localhost:8080/",
          "height": 136
        },
        "outputId": "5d5de1df-ae00-49c3-d77e-fe761882d4e1"
      },
      "source": [
        "val_data_for_pred"
      ],
      "execution_count": 340,
      "outputs": [
        {
          "output_type": "execute_result",
          "data": {
            "text/plain": [
              "array([[  64,  280,    5, ...,  106,  138,   12],\n",
              "       [ 396,   31,   29, ..., 1682,  772, 2117],\n",
              "       [ 396, 1232,    7, ..., 2324, 1328, 1735],\n",
              "       ...,\n",
              "       [  60,  135,   32, ...,  221,  276,    9],\n",
              "       [  44,    6,   48, ...,   12,  148,  637],\n",
              "       [  14,  135,  225, ..., 3294,  198,  137]], dtype=int32)"
            ]
          },
          "metadata": {
            "tags": []
          },
          "execution_count": 340
        }
      ]
    },
    {
      "cell_type": "code",
      "metadata": {
        "id": "PhsAD0bC9CpL",
        "colab_type": "code",
        "colab": {
          "base_uri": "https://localhost:8080/",
          "height": 136
        },
        "outputId": "268f8537-a59d-4a9e-915e-8f80a660e345"
      },
      "source": [
        "val_result_for_pred"
      ],
      "execution_count": 341,
      "outputs": [
        {
          "output_type": "execute_result",
          "data": {
            "text/plain": [
              "array([[ 292, 1817, 1597],\n",
              "       [1438, 2572,  236],\n",
              "       [ 931, 1362, 2569],\n",
              "       ...,\n",
              "       [ 358,   32, 3143],\n",
              "       [1414,  512, 2196],\n",
              "       [5132, 2910, 5152]])"
            ]
          },
          "metadata": {
            "tags": []
          },
          "execution_count": 341
        }
      ]
    },
    {
      "cell_type": "code",
      "metadata": {
        "id": "MQISh8wl5KaV",
        "colab_type": "code",
        "colab": {}
      },
      "source": [
        "pred = model.predict(val_data_for_pred,batch_size=4096)\n",
        "pred = pred.argsort(axis=1)[:,-3:][:,::-1]"
      ],
      "execution_count": 342,
      "outputs": []
    },
    {
      "cell_type": "code",
      "metadata": {
        "id": "0nQuRQrD5KYJ",
        "colab_type": "code",
        "colab": {
          "base_uri": "https://localhost:8080/",
          "height": 34
        },
        "outputId": "f6cbc0d1-292c-477c-c327-b6126e682b20"
      },
      "source": [
        "pred.shape,val_data_for_pred.shape,val_result_for_pred.shape"
      ],
      "execution_count": 343,
      "outputs": [
        {
          "output_type": "execute_result",
          "data": {
            "text/plain": [
              "((2865, 3), (2865, 10), (2865, 3))"
            ]
          },
          "metadata": {
            "tags": []
          },
          "execution_count": 343
        }
      ]
    },
    {
      "cell_type": "code",
      "metadata": {
        "id": "sgY8PMeM5KRO",
        "colab_type": "code",
        "colab": {
          "base_uri": "https://localhost:8080/",
          "height": 34
        },
        "outputId": "8bb34655-4c30-477e-dc4b-bafd40e1f783"
      },
      "source": [
        "mapk(val_result_for_pred,pred)"
      ],
      "execution_count": 344,
      "outputs": [
        {
          "output_type": "execute_result",
          "data": {
            "text/plain": [
              "0.28181113050223"
            ]
          },
          "metadata": {
            "tags": []
          },
          "execution_count": 344
        }
      ]
    },
    {
      "cell_type": "code",
      "metadata": {
        "id": "cRKeZQAE5KOR",
        "colab_type": "code",
        "colab": {}
      },
      "source": [
        "#0.2818 on Validation --- 0.271 in public LeaderBoard"
      ],
      "execution_count": null,
      "outputs": []
    },
    {
      "cell_type": "markdown",
      "metadata": {
        "id": "2aW7SEkZ4KeD",
        "colab_type": "text"
      },
      "source": [
        "# Making Final Model"
      ]
    },
    {
      "cell_type": "code",
      "metadata": {
        "id": "4KYCVRimKX4a",
        "colab_type": "code",
        "colab": {}
      },
      "source": [
        "def get_model(path='',lr=0.002):\n",
        "\n",
        "  adam = Adam(lr=lr,beta_1=0.5)\n",
        "  # meta_inp = Input(shape=)\n",
        "\n",
        "  inp = Input(shape=(MAX_SEQUENCE_LENGTH,),name='nlp_input')\n",
        "  x = Embedding(TotalWords+1,256)(inp)\n",
        "  x = BatchNormalization()(x)\n",
        "  x = Bidirectional(LSTM(256,  return_sequences=True, recurrent_dropout=0.1))(x)\n",
        "\n",
        "  x = Dropout(0.1)(x)\n",
        "  x = Dense(N_CATEGORIES, activation=\"softmax\")(x)\n",
        "  model = Model(inputs=inp, outputs=x)\n",
        "  if path != '':\n",
        "      model.load_weights(path)\n",
        "  model.compile(loss='sparse_categorical_crossentropy', optimizer=adam, metrics=[\"accuracy\"])\n",
        "  return model"
      ],
      "execution_count": 264,
      "outputs": []
    },
    {
      "cell_type": "code",
      "metadata": {
        "id": "ytvs5caWaDvF",
        "colab_type": "code",
        "colab": {}
      },
      "source": [
        "model = get_model()\n",
        "\n",
        "path = 'best_model_weights2'\n",
        "es_callback = EarlyStopping(monitor=\"loss\", patience=5)\n",
        "mc_callback = ModelCheckpoint(f'{path}.hdf5', monitor='accuracy',\n",
        "                              verbose=0, save_best_only=True, save_weights_only=True,\n",
        "                              mode='auto', period=1)\n",
        "callbacks = [es_callback,mc_callback]"
      ],
      "execution_count": 265,
      "outputs": []
    },
    {
      "cell_type": "code",
      "metadata": {
        "id": "Kqunfkj5SEn0",
        "colab_type": "code",
        "colab": {
          "base_uri": "https://localhost:8080/",
          "height": 1000
        },
        "outputId": "a19eafc6-ade2-44ed-c08a-61da99923cd0"
      },
      "source": [
        "model.fit(whole_xtrain,\n",
        "              whole_ytrain,\n",
        "              epochs=50,\n",
        "              batch_size=4100,\n",
        "              # validation_data=(x_validation, y_validation),\n",
        "              callbacks = callbacks\n",
        "              )"
      ],
      "execution_count": 273,
      "outputs": [
        {
          "output_type": "stream",
          "text": [
            "Epoch 1/50\n",
            "208596/208596 [==============================] - 9s 42us/step - loss: 1.9911 - accuracy: 0.2308\n",
            "Epoch 2/50\n",
            "208596/208596 [==============================] - 9s 42us/step - loss: 1.9836 - accuracy: 0.2324\n",
            "Epoch 3/50\n",
            "208596/208596 [==============================] - 9s 43us/step - loss: 1.9754 - accuracy: 0.2344\n",
            "Epoch 4/50\n",
            "208596/208596 [==============================] - 9s 43us/step - loss: 1.9708 - accuracy: 0.2351\n",
            "Epoch 5/50\n",
            "208596/208596 [==============================] - 9s 43us/step - loss: 1.9675 - accuracy: 0.2347\n",
            "Epoch 6/50\n",
            "208596/208596 [==============================] - 9s 44us/step - loss: 1.9625 - accuracy: 0.2339\n",
            "Epoch 7/50\n",
            "208596/208596 [==============================] - 9s 44us/step - loss: 1.9572 - accuracy: 0.2359\n",
            "Epoch 8/50\n",
            "208596/208596 [==============================] - 9s 45us/step - loss: 1.9528 - accuracy: 0.2346\n",
            "Epoch 9/50\n",
            "208596/208596 [==============================] - 9s 45us/step - loss: 1.9481 - accuracy: 0.2356\n",
            "Epoch 10/50\n",
            "208596/208596 [==============================] - 9s 45us/step - loss: 1.9446 - accuracy: 0.2337\n",
            "Epoch 11/50\n",
            "208596/208596 [==============================] - 10s 46us/step - loss: 1.9368 - accuracy: 0.2365\n",
            "Epoch 12/50\n",
            "208596/208596 [==============================] - 9s 46us/step - loss: 1.9289 - accuracy: 0.2368\n",
            "Epoch 13/50\n",
            "208596/208596 [==============================] - 9s 45us/step - loss: 1.9314 - accuracy: 0.2361\n",
            "Epoch 14/50\n",
            "208596/208596 [==============================] - 9s 45us/step - loss: 1.9263 - accuracy: 0.2352\n",
            "Epoch 15/50\n",
            "208596/208596 [==============================] - 9s 45us/step - loss: 1.9175 - accuracy: 0.2368\n",
            "Epoch 16/50\n",
            "208596/208596 [==============================] - 9s 45us/step - loss: 1.9209 - accuracy: 0.2359\n",
            "Epoch 17/50\n",
            "208596/208596 [==============================] - 9s 45us/step - loss: 1.9135 - accuracy: 0.2371\n",
            "Epoch 18/50\n",
            "208596/208596 [==============================] - 9s 45us/step - loss: 1.9076 - accuracy: 0.2386\n",
            "Epoch 19/50\n",
            "208596/208596 [==============================] - 9s 45us/step - loss: 1.9053 - accuracy: 0.2374\n",
            "Epoch 20/50\n",
            "208596/208596 [==============================] - 9s 45us/step - loss: 1.9023 - accuracy: 0.2395\n",
            "Epoch 21/50\n",
            "208596/208596 [==============================] - 9s 45us/step - loss: 1.9003 - accuracy: 0.2383\n",
            "Epoch 22/50\n",
            "208596/208596 [==============================] - 9s 45us/step - loss: 1.8973 - accuracy: 0.2380\n",
            "Epoch 23/50\n",
            "208596/208596 [==============================] - 9s 45us/step - loss: 1.8961 - accuracy: 0.2378\n",
            "Epoch 24/50\n",
            "208596/208596 [==============================] - 9s 45us/step - loss: 1.8889 - accuracy: 0.2388\n",
            "Epoch 25/50\n",
            "208596/208596 [==============================] - 9s 45us/step - loss: 1.8883 - accuracy: 0.2383\n",
            "Epoch 26/50\n",
            "208596/208596 [==============================] - 9s 45us/step - loss: 1.8840 - accuracy: 0.2393\n",
            "Epoch 27/50\n",
            "208596/208596 [==============================] - 9s 45us/step - loss: 1.8806 - accuracy: 0.2399\n",
            "Epoch 28/50\n",
            "208596/208596 [==============================] - 9s 45us/step - loss: 1.8763 - accuracy: 0.2395\n",
            "Epoch 29/50\n",
            "208596/208596 [==============================] - 9s 45us/step - loss: 1.8744 - accuracy: 0.2398\n",
            "Epoch 30/50\n",
            "208596/208596 [==============================] - 9s 45us/step - loss: 1.8743 - accuracy: 0.2387\n",
            "Epoch 31/50\n",
            "208596/208596 [==============================] - 9s 45us/step - loss: 1.8693 - accuracy: 0.2393\n",
            "Epoch 32/50\n",
            "208596/208596 [==============================] - 9s 45us/step - loss: 1.8699 - accuracy: 0.2400\n",
            "Epoch 33/50\n",
            "208596/208596 [==============================] - 9s 45us/step - loss: 1.8659 - accuracy: 0.2408\n",
            "Epoch 34/50\n",
            "208596/208596 [==============================] - 9s 45us/step - loss: 1.8612 - accuracy: 0.2415\n",
            "Epoch 35/50\n",
            "208596/208596 [==============================] - 9s 45us/step - loss: 1.8586 - accuracy: 0.2422\n",
            "Epoch 36/50\n",
            "208596/208596 [==============================] - 9s 45us/step - loss: 1.8580 - accuracy: 0.2425\n",
            "Epoch 37/50\n",
            "208596/208596 [==============================] - 9s 45us/step - loss: 1.8530 - accuracy: 0.2411\n",
            "Epoch 38/50\n",
            "208596/208596 [==============================] - 9s 45us/step - loss: 1.8514 - accuracy: 0.2424\n",
            "Epoch 39/50\n",
            "208596/208596 [==============================] - 9s 45us/step - loss: 1.8531 - accuracy: 0.2407\n",
            "Epoch 40/50\n",
            "208596/208596 [==============================] - 9s 45us/step - loss: 1.8473 - accuracy: 0.2428\n",
            "Epoch 41/50\n",
            "208596/208596 [==============================] - 9s 45us/step - loss: 1.8462 - accuracy: 0.2416\n",
            "Epoch 42/50\n",
            "208596/208596 [==============================] - 9s 45us/step - loss: 1.8439 - accuracy: 0.2422\n",
            "Epoch 43/50\n",
            "208596/208596 [==============================] - 9s 45us/step - loss: 1.8410 - accuracy: 0.2423\n",
            "Epoch 44/50\n",
            "208596/208596 [==============================] - 9s 45us/step - loss: 1.8382 - accuracy: 0.2424\n",
            "Epoch 45/50\n",
            "208596/208596 [==============================] - 9s 45us/step - loss: 1.8384 - accuracy: 0.2418\n",
            "Epoch 46/50\n",
            "208596/208596 [==============================] - 9s 45us/step - loss: 1.8354 - accuracy: 0.2433\n",
            "Epoch 47/50\n",
            "208596/208596 [==============================] - 9s 45us/step - loss: 1.8310 - accuracy: 0.2435\n",
            "Epoch 48/50\n",
            "208596/208596 [==============================] - 9s 45us/step - loss: 1.8353 - accuracy: 0.2419\n",
            "Epoch 49/50\n",
            "208596/208596 [==============================] - 9s 45us/step - loss: 1.8329 - accuracy: 0.2431\n",
            "Epoch 50/50\n",
            "208596/208596 [==============================] - 9s 45us/step - loss: 1.8274 - accuracy: 0.2440\n"
          ],
          "name": "stdout"
        },
        {
          "output_type": "execute_result",
          "data": {
            "text/plain": [
              "<keras.callbacks.callbacks.History at 0x7f7c39e4bc50>"
            ]
          },
          "metadata": {
            "tags": []
          },
          "execution_count": 273
        }
      ]
    },
    {
      "cell_type": "code",
      "metadata": {
        "id": "Mqfon8uePoOI",
        "colab_type": "code",
        "colab": {}
      },
      "source": [
        "# accuracy--> Public MAP\n",
        "# 0.2023 - 0.250\n",
        "# 0.2242 - 0.258\n",
        "# 0.2331 - 0.270\n",
        "# 0.2411 - 0.271"
      ],
      "execution_count": 140,
      "outputs": []
    },
    {
      "cell_type": "markdown",
      "metadata": {
        "id": "5LoUFQpe-Ouf",
        "colab_type": "text"
      },
      "source": [
        "# Predicting on Test"
      ]
    },
    {
      "cell_type": "code",
      "metadata": {
        "id": "UZIno1DVOVuw",
        "colab_type": "code",
        "colab": {}
      },
      "source": [
        "model = get_model(f'{path}.hdf5')"
      ],
      "execution_count": 259,
      "outputs": []
    },
    {
      "cell_type": "code",
      "metadata": {
        "id": "02RcMg1zayqx",
        "colab_type": "code",
        "colab": {}
      },
      "source": [
        "#just to make it in to numpy array\n",
        "def padding(text):\n",
        "    return pad_sequences(tokenizer.texts_to_sequences(text),\n",
        "                         maxlen=MAX_SEQUENCE_LENGTH,\n",
        "                         padding='post',\n",
        "                         truncating='post')"
      ],
      "execution_count": 268,
      "outputs": []
    },
    {
      "cell_type": "code",
      "metadata": {
        "id": "SCcGysIna56K",
        "colab_type": "code",
        "colab": {}
      },
      "source": [
        "temp = test[test.challenge_sequence <= 10]\n",
        "test_text = temp.groupby('user_id')['challenge'].agg(lambda x: ' '.join(x)).reset_index()\n",
        "x_test = padding(test_text.challenge)"
      ],
      "execution_count": 269,
      "outputs": []
    },
    {
      "cell_type": "code",
      "metadata": {
        "id": "ADDpN0toaynB",
        "colab_type": "code",
        "colab": {
          "base_uri": "https://localhost:8080/",
          "height": 51
        },
        "outputId": "7f219655-bc0d-48c8-adbd-e244c8b317b9"
      },
      "source": [
        "%%time\n",
        "pred = model.predict(x_test,batch_size=4096)\n",
        "pred = pred.argsort(axis=1)[:,-3:][:,::-1]"
      ],
      "execution_count": 345,
      "outputs": [
        {
          "output_type": "stream",
          "text": [
            "CPU times: user 14.5 s, sys: 3.01 s, total: 17.5 s\n",
            "Wall time: 17.6 s\n"
          ],
          "name": "stdout"
        }
      ]
    },
    {
      "cell_type": "code",
      "metadata": {
        "id": "9bYHdL4nI8cQ",
        "colab_type": "code",
        "colab": {
          "base_uri": "https://localhost:8080/",
          "height": 34
        },
        "outputId": "34995f54-96ec-4446-f608-67e0d3ed166a"
      },
      "source": [
        "x_test.shape,pred.shape"
      ],
      "execution_count": 307,
      "outputs": [
        {
          "output_type": "execute_result",
          "data": {
            "text/plain": [
              "((39732, 10), (39732, 3))"
            ]
          },
          "metadata": {
            "tags": []
          },
          "execution_count": 307
        }
      ]
    },
    {
      "cell_type": "code",
      "metadata": {
        "id": "ALSMkwU26__o",
        "colab_type": "code",
        "colab": {
          "base_uri": "https://localhost:8080/",
          "height": 119
        },
        "outputId": "145eff47-7986-465e-e7e8-0eddd1c20bc4"
      },
      "source": [
        "x_test[:3],pred[:3]"
      ],
      "execution_count": 310,
      "outputs": [
        {
          "output_type": "execute_result",
          "data": {
            "text/plain": [
              "(array([[  1,   6,   2,  14,   3,   4,   5,   8,  98,   7],\n",
              "        [  4,   1,   2,   6,  17,   3,   8,  14,   5,  76],\n",
              "        [395, 689, 569, 644, 544, 718, 695, 568, 495, 249]], dtype=int32),\n",
              " array([[1049, 1056, 1579],\n",
              "        [ 370, 1052,  709],\n",
              "        [3471, 3477, 3472]]))"
            ]
          },
          "metadata": {
            "tags": []
          },
          "execution_count": 310
        }
      ]
    },
    {
      "cell_type": "code",
      "metadata": {
        "id": "nnrEV6gZaygd",
        "colab_type": "code",
        "colab": {}
      },
      "source": [
        "df_list = []\n",
        "for i in range(3):\n",
        "    test_11 = test_text[['user_id']]\n",
        "    test_11['user_sequence'] = test_11.user_id.astype(str) + '_'+str(i+11)\n",
        "    test_11['challenge'] = encoder.inverse_transform(pred[:,i])\n",
        "    df_list.append(test_11[['user_sequence','challenge']])\n",
        "pd.concat(df_list).to_csv('Final.csv',index=False)"
      ],
      "execution_count": 346,
      "outputs": []
    }
  ]
}