{
  "nbformat": 4,
  "nbformat_minor": 0,
  "metadata": {
    "colab": {
      "name": "recommendation_system.ipynb",
      "provenance": [],
      "collapsed_sections": []
    },
    "kernelspec": {
      "name": "python3",
      "display_name": "Python 3"
    },
    "accelerator": "GPU"
  },
  "cells": [
    {
      "cell_type": "code",
      "metadata": {
        "id": "oAQ0K9CxhkzU",
        "colab_type": "code",
        "colab": {
          "base_uri": "https://localhost:8080/",
          "height": 34
        },
        "outputId": "b07db89d-9b0c-4c9b-ed38-4f7ed56c5b30"
      },
      "source": [
        "import pandas as pd\n",
        "import tensorflow as tf\n",
        "\n",
        "from tensorflow.keras.preprocessing.sequence import pad_sequences\n",
        "from tensorflow.keras.layers import Embedding, LSTM, Dense, Bidirectional,Conv2D,GlobalMaxPooling2D,SimpleRNN\n",
        "from tensorflow.keras.preprocessing.text import Tokenizer\n",
        "from tensorflow.keras.models import Sequential\n",
        "from tensorflow.keras.optimizers import Adam\n",
        "from keras.utils import np_utils\n",
        "import numpy as np\n",
        "from sklearn.preprocessing import LabelEncoder"
      ],
      "execution_count": 1,
      "outputs": [
        {
          "output_type": "stream",
          "text": [
            "Using TensorFlow backend.\n"
          ],
          "name": "stderr"
        }
      ]
    },
    {
      "cell_type": "code",
      "metadata": {
        "id": "VoQkX3WNgPyQ",
        "colab_type": "code",
        "colab": {
          "base_uri": "https://localhost:8080/",
          "height": 419
        },
        "outputId": "2023420b-9247-40fc-8c62-f7332a1fb83a"
      },
      "source": [
        "challenge_data = pd.read_csv(\"/content/drive/My Drive/Colab Notebooks/JanathaHack/RecommendationSystems/challenge_data.csv\")\n",
        "train = pd.read_csv(\"/content/drive/My Drive/Colab Notebooks/JanathaHack/RecommendationSystems/train.csv\")\n",
        "test = pd.read_csv(\"/content/drive/My Drive/Colab Notebooks/JanathaHack/RecommendationSystems/test.csv\")\n",
        "sub = pd.read_csv(\"/content/drive/My Drive/Colab Notebooks/JanathaHack/RecommendationSystems/sample_sub.csv\")\n",
        "train.drop(\"user_sequence\",axis=1,inplace=True)\n",
        "test.drop(\"user_sequence\",axis=1,inplace=True)\n",
        "\n",
        "# merge_train = pd.merge(train,challenge_data,on=[\"challenge\"],how=\"left\")\n",
        "# merge_test = pd.merge(test,challenge_data,on=[\"challenge\"],how=\"left\") \n",
        "\n",
        "# merge_train\n",
        "train"
      ],
      "execution_count": 2,
      "outputs": [
        {
          "output_type": "execute_result",
          "data": {
            "text/html": [
              "<div>\n",
              "<style scoped>\n",
              "    .dataframe tbody tr th:only-of-type {\n",
              "        vertical-align: middle;\n",
              "    }\n",
              "\n",
              "    .dataframe tbody tr th {\n",
              "        vertical-align: top;\n",
              "    }\n",
              "\n",
              "    .dataframe thead th {\n",
              "        text-align: right;\n",
              "    }\n",
              "</style>\n",
              "<table border=\"1\" class=\"dataframe\">\n",
              "  <thead>\n",
              "    <tr style=\"text-align: right;\">\n",
              "      <th></th>\n",
              "      <th>user_id</th>\n",
              "      <th>challenge_sequence</th>\n",
              "      <th>challenge</th>\n",
              "    </tr>\n",
              "  </thead>\n",
              "  <tbody>\n",
              "    <tr>\n",
              "      <th>0</th>\n",
              "      <td>4576</td>\n",
              "      <td>1</td>\n",
              "      <td>CI23714</td>\n",
              "    </tr>\n",
              "    <tr>\n",
              "      <th>1</th>\n",
              "      <td>4576</td>\n",
              "      <td>2</td>\n",
              "      <td>CI23855</td>\n",
              "    </tr>\n",
              "    <tr>\n",
              "      <th>2</th>\n",
              "      <td>4576</td>\n",
              "      <td>3</td>\n",
              "      <td>CI24917</td>\n",
              "    </tr>\n",
              "    <tr>\n",
              "      <th>3</th>\n",
              "      <td>4576</td>\n",
              "      <td>4</td>\n",
              "      <td>CI23663</td>\n",
              "    </tr>\n",
              "    <tr>\n",
              "      <th>4</th>\n",
              "      <td>4576</td>\n",
              "      <td>5</td>\n",
              "      <td>CI23933</td>\n",
              "    </tr>\n",
              "    <tr>\n",
              "      <th>...</th>\n",
              "      <td>...</td>\n",
              "      <td>...</td>\n",
              "      <td>...</td>\n",
              "    </tr>\n",
              "    <tr>\n",
              "      <th>903911</th>\n",
              "      <td>113839</td>\n",
              "      <td>9</td>\n",
              "      <td>CI24992</td>\n",
              "    </tr>\n",
              "    <tr>\n",
              "      <th>903912</th>\n",
              "      <td>113839</td>\n",
              "      <td>10</td>\n",
              "      <td>CI28586</td>\n",
              "    </tr>\n",
              "    <tr>\n",
              "      <th>903913</th>\n",
              "      <td>113839</td>\n",
              "      <td>11</td>\n",
              "      <td>CI28610</td>\n",
              "    </tr>\n",
              "    <tr>\n",
              "      <th>903914</th>\n",
              "      <td>113839</td>\n",
              "      <td>12</td>\n",
              "      <td>CI26388</td>\n",
              "    </tr>\n",
              "    <tr>\n",
              "      <th>903915</th>\n",
              "      <td>113839</td>\n",
              "      <td>13</td>\n",
              "      <td>CI28630</td>\n",
              "    </tr>\n",
              "  </tbody>\n",
              "</table>\n",
              "<p>903916 rows × 3 columns</p>\n",
              "</div>"
            ],
            "text/plain": [
              "        user_id  challenge_sequence challenge\n",
              "0          4576                   1   CI23714\n",
              "1          4576                   2   CI23855\n",
              "2          4576                   3   CI24917\n",
              "3          4576                   4   CI23663\n",
              "4          4576                   5   CI23933\n",
              "...         ...                 ...       ...\n",
              "903911   113839                   9   CI24992\n",
              "903912   113839                  10   CI28586\n",
              "903913   113839                  11   CI28610\n",
              "903914   113839                  12   CI26388\n",
              "903915   113839                  13   CI28630\n",
              "\n",
              "[903916 rows x 3 columns]"
            ]
          },
          "metadata": {
            "tags": []
          },
          "execution_count": 2
        }
      ]
    },
    {
      "cell_type": "code",
      "metadata": {
        "id": "unOlIwI3h3qf",
        "colab_type": "code",
        "colab": {}
      },
      "source": [
        "concat_train = train.groupby(\"user_id\").agg({\"challenge\": lambda x: ' '.join(set(x.dropna()))})"
      ],
      "execution_count": 3,
      "outputs": []
    },
    {
      "cell_type": "code",
      "metadata": {
        "id": "RlyvL7PviI2d",
        "colab_type": "code",
        "colab": {
          "base_uri": "https://localhost:8080/",
          "height": 221
        },
        "outputId": "91a443b2-4f2c-4907-9ac1-eaa515497176"
      },
      "source": [
        "concat_train = concat_train.reset_index(drop=True)\n",
        "concat_train[\"challenge\"]"
      ],
      "execution_count": 4,
      "outputs": [
        {
          "output_type": "execute_result",
          "data": {
            "text/plain": [
              "0        CI23933 CI24917 CI23975 CI24957 CI24958 CI2512...\n",
              "1        CI23933 CI23975 CI24530 CI25727 CI23667 CI2378...\n",
              "2        CI26159 CI26160 CI26165 CI26164 CI26162 CI2616...\n",
              "3        CI23933 CI24917 CI23975 CI24958 CI24957 CI2494...\n",
              "4        CI23933 CI23975 CI24917 CI24958 CI24530 CI2512...\n",
              "                               ...                        \n",
              "69527    CI24435 CI23933 CI24530 CI24521 CI24445 CI2443...\n",
              "69528    CI23769 CI23933 CI24875 CI24869 CI25023 CI2486...\n",
              "69529    CI24930 CI26621 CI24958 CI24230 CI23836 CI2605...\n",
              "69530    CI24892 CI23990 CI23933 CI25049 CI24866 CI2487...\n",
              "69531    CI25727 CI24954 CI28610 CI28630 CI28328 CI2858...\n",
              "Name: challenge, Length: 69532, dtype: object"
            ]
          },
          "metadata": {
            "tags": []
          },
          "execution_count": 4
        }
      ]
    },
    {
      "cell_type": "code",
      "metadata": {
        "id": "1W1crlQMjB7p",
        "colab_type": "code",
        "colab": {}
      },
      "source": [
        "outF = open(\"concat_train.txt\", \"w\")\n",
        "for i in concat_train[\"challenge\"].values:\n",
        "  outF.write(i)\n",
        "  outF.write(\"\\n\")\n",
        "outF.close()"
      ],
      "execution_count": 5,
      "outputs": []
    },
    {
      "cell_type": "code",
      "metadata": {
        "id": "asVXjUM5mUdA",
        "colab_type": "code",
        "colab": {
          "base_uri": "https://localhost:8080/",
          "height": 71
        },
        "outputId": "ca49809d-5172-4dd6-a01a-10708653bb23"
      },
      "source": [
        "tokenizer = Tokenizer()\n",
        "\n",
        "data = open('concat_train.txt').read()\n",
        "\n",
        "corpus = data.lower().split(\"\\n\")\n",
        "\n",
        "tokenizer.fit_on_texts(corpus)\n",
        "total_words = len(tokenizer.word_index) + 1\n",
        "\n",
        "print(tokenizer.word_index)\n",
        "print(total_words)"
      ],
      "execution_count": 6,
      "outputs": [
        {
          "output_type": "stream",
          "text": [
            "{'ci23855': 1, 'ci23714': 2, 'ci24917': 3,..... }\n",
            "5349\n"
          ],
          "name": "stdout"
        }
      ]
    },
    {
      "cell_type": "code",
      "metadata": {
        "id": "-6n37ukxosqP",
        "colab_type": "code",
        "colab": {}
      },
      "source": [
        ""
      ],
      "execution_count": null,
      "outputs": []
    },
    {
      "cell_type": "code",
      "metadata": {
        "id": "Ot6emm6esMyE",
        "colab_type": "code",
        "colab": {}
      },
      "source": [
        "input_sequences_x = []\n",
        "input_y=[]\n",
        "for line in corpus:\n",
        " token_list = tokenizer.texts_to_sequences([line])[0]\n",
        " n_gram_sequence = token_list[:-3]\n",
        " input_sequences_x.append(n_gram_sequence)\n",
        " input_y.append(token_list[-3:])"
      ],
      "execution_count": 15,
      "outputs": []
    },
    {
      "cell_type": "code",
      "metadata": {
        "id": "MW5Jc7Rdnark",
        "colab_type": "code",
        "colab": {}
      },
      "source": [
        "# input_sequences = []\n",
        "# for line in corpus:\n",
        "# \ttoken_list = tokenizer.texts_to_sequences([line])[0]\n",
        "# \tfor i in range(1, len(token_list)):\n",
        "# \t\tn_gram_sequence = token_list[:i+1]\n",
        "# \t\tinput_sequences.append(n_gram_sequence)"
      ],
      "execution_count": null,
      "outputs": []
    },
    {
      "cell_type": "code",
      "metadata": {
        "id": "M-D4eSdcmxge",
        "colab_type": "code",
        "colab": {
          "base_uri": "https://localhost:8080/",
          "height": 187
        },
        "outputId": "313d5c1e-5941-4b83-f710-0c8f53a7b570"
      },
      "source": [
        "input_sequences_x[:10]"
      ],
      "execution_count": null,
      "outputs": [
        {
          "output_type": "execute_result",
          "data": {
            "text/plain": [
              "[[7, 11, 35, 14, 9, 5, 2, 37, 1, 4],\n",
              " [19, 7, 14, 8, 2, 37, 100, 1, 104, 6],\n",
              " [219, 191, 354, 297, 192, 251, 259, 315, 222, 249],\n",
              " [7, 35, 14, 5, 2, 116, 30, 1, 4, 6],\n",
              " [7, 11, 14, 5, 8, 2, 21, 1, 4, 6],\n",
              " [889, 14, 62, 92, 501, 37, 1, 104, 34, 6],\n",
              " [7, 149, 424, 9, 31, 2, 28, 1, 276, 3],\n",
              " [19, 7, 3, 14, 29, 17, 8, 5, 2, 15],\n",
              " [7, 11, 5, 2, 21, 13, 28, 1, 4, 31],\n",
              " [219, 191, 354, 297, 192, 251, 259, 315, 222, 280]]"
            ]
          },
          "metadata": {
            "tags": []
          },
          "execution_count": 10
        }
      ]
    },
    {
      "cell_type": "code",
      "metadata": {
        "id": "EbwT1P87t4Ri",
        "colab_type": "code",
        "colab": {}
      },
      "source": [
        "# pad sequences \n",
        "max_sequence_len = 13\n",
        "input_sequences_x = pad_sequences(input_sequences_x, maxlen=13, padding='post')\n",
        "input_y = np.asarray(input_y)"
      ],
      "execution_count": 16,
      "outputs": []
    },
    {
      "cell_type": "code",
      "metadata": {
        "id": "6XIbbxsWBKoA",
        "colab_type": "code",
        "colab": {
          "base_uri": "https://localhost:8080/",
          "height": 204
        },
        "outputId": "358d15bd-327a-4c30-d9af-ed3f9de5c29f"
      },
      "source": [
        "input_sequences_x[:10]#input_x"
      ],
      "execution_count": 10,
      "outputs": [
        {
          "output_type": "execute_result",
          "data": {
            "text/plain": [
              "array([[  6,   3,  18,  35,   5,  11,  37,   9,   2,  14,   0,   0,   0],\n",
              "       [  6,  18,   8, 104,  37, 100,  34,  19,   2,  14,   0,   0,   0],\n",
              "       [251, 297, 212, 191, 219, 315, 354, 259, 192, 261,   0,   0,   0],\n",
              "       [  6,   3,  18,   5,  35, 116,  34,   2,   7,  30,   0,   0,   0],\n",
              "       [  6,  18,   3,   5,   8,  11,  10,   4,   2,  21,   0,   0,   0],\n",
              "       [  6, 501,  92, 104,  62,  43,  37,   1,  34, 889,   0,   0,   0],\n",
              "       [149,  18,   3, 276,  10,   4,   2,   9, 424,  31,   0,   0,   0],\n",
              "       [  6,   8,  17,   3,   5,  15,  29,  19,   2,   7,   0,   0,   0],\n",
              "       [ 13,   3,  18,   5,  11,  10,   4,   2,  21,  31,   0,   0,   0],\n",
              "       [251, 297, 212, 191, 219, 315, 354, 259, 192, 280,   0,   0,   0]],\n",
              "      dtype=int32)"
            ]
          },
          "metadata": {
            "tags": []
          },
          "execution_count": 10
        }
      ]
    },
    {
      "cell_type": "code",
      "metadata": {
        "id": "Hj8qMlEazU-z",
        "colab_type": "code",
        "colab": {
          "base_uri": "https://localhost:8080/",
          "height": 187
        },
        "outputId": "c105af99-5a81-4f51-9b9f-d0164a66634a"
      },
      "source": [
        "[x for x in input_y[:10]]#input_y"
      ],
      "execution_count": 20,
      "outputs": [
        {
          "output_type": "execute_result",
          "data": {
            "text/plain": [
              "[[7, 4, 1],\n",
              " [7, 4, 1],\n",
              " [222, 281, 249],\n",
              " [14, 4, 1],\n",
              " [7, 1, 14],\n",
              " [23, 4, 14],\n",
              " [7, 1, 28],\n",
              " [14, 4, 1],\n",
              " [7, 1, 28],\n",
              " [261, 222, 249]]"
            ]
          },
          "metadata": {
            "tags": []
          },
          "execution_count": 20
        }
      ]
    },
    {
      "cell_type": "code",
      "metadata": {
        "id": "5PF8gurBuSmR",
        "colab_type": "code",
        "colab": {
          "base_uri": "https://localhost:8080/",
          "height": 34
        },
        "outputId": "1109d653-0962-4703-f491-2b595a85a482"
      },
      "source": [
        "input_sequences_x.shape,len(input_y)"
      ],
      "execution_count": 21,
      "outputs": [
        {
          "output_type": "execute_result",
          "data": {
            "text/plain": [
              "((69533, 13), 69533)"
            ]
          },
          "metadata": {
            "tags": []
          },
          "execution_count": 21
        }
      ]
    },
    {
      "cell_type": "code",
      "metadata": {
        "id": "-emvYMjwud9M",
        "colab_type": "code",
        "colab": {}
      },
      "source": [
        "xs = tf.keras.utils.to_categorical(input_sequences_x, num_classes=total_words,dtype='int8')\n",
        "ys = tf.keras.utils.to_categorical(input_y, num_classes=total_words,dtype='int8')"
      ],
      "execution_count": 25,
      "outputs": []
    },
    {
      "cell_type": "code",
      "metadata": {
        "id": "BwvDBql50jtC",
        "colab_type": "code",
        "colab": {}
      },
      "source": [
        "# ys = np.array(ys,dtype=np.float16)"
      ],
      "execution_count": null,
      "outputs": []
    },
    {
      "cell_type": "code",
      "metadata": {
        "id": "lcNXxQqT7w13",
        "colab_type": "code",
        "colab": {
          "base_uri": "https://localhost:8080/",
          "height": 34
        },
        "outputId": "5957b07e-6cf5-4c3f-cd15-30c738219da1"
      },
      "source": [
        "input_sequences.shape,ys.shape"
      ],
      "execution_count": null,
      "outputs": [
        {
          "output_type": "execute_result",
          "data": {
            "text/plain": [
              "((834384, 13), (834384, 5349))"
            ]
          },
          "metadata": {
            "tags": []
          },
          "execution_count": 15
        }
      ]
    },
    {
      "cell_type": "code",
      "metadata": {
        "id": "DCerlbAZu5EK",
        "colab_type": "code",
        "colab": {}
      },
      "source": [
        "model = Sequential()\n",
        "model.add(Embedding(total_words, 100, input_length=max_sequence_len-1,mask_zero=True))\n",
        "# model.add(Conv2D(128, 5, activation='relu'))\n",
        "# model.add(GlobalMaxPooling2D())\n",
        "model.add(Bidirectional(LSTM(128)))\n",
        "model.add(Dense(total_words, activation='softmax'))\n",
        "adam = Adam(lr=0.01)\n",
        "model.compile(loss='categorical_crossentropy', optimizer=adam, metrics=['accuracy'])\n",
        "#earlystop = EarlyStopping(monitor='val_loss', min_delta=0, patience=5, verbose=0, mode='auto')\n",
        "history = model.fit(xs, ys, epochs=10,validation_split=0.05, verbose=1)\n",
        "#print model.summary()\n",
        "print(model)"
      ],
      "execution_count": null,
      "outputs": []
    },
    {
      "cell_type": "code",
      "metadata": {
        "id": "CZBtKCIKRIl_",
        "colab_type": "code",
        "colab": {
          "base_uri": "https://localhost:8080/",
          "height": 105
        },
        "outputId": "1456b5a0-33e2-483d-d80b-601d9a39fff2"
      },
      "source": [
        "model.save('my_model')"
      ],
      "execution_count": null,
      "outputs": [
        {
          "output_type": "stream",
          "text": [
            "WARNING:tensorflow:From /usr/local/lib/python3.6/dist-packages/tensorflow/python/ops/resource_variable_ops.py:1817: calling BaseResourceVariable.__init__ (from tensorflow.python.ops.resource_variable_ops) with constraint is deprecated and will be removed in a future version.\n",
            "Instructions for updating:\n",
            "If using Keras pass *_constraint arguments to layers.\n",
            "INFO:tensorflow:Assets written to: my_model/assets\n"
          ],
          "name": "stdout"
        }
      ]
    },
    {
      "cell_type": "code",
      "metadata": {
        "id": "Cl32c2p1RrDw",
        "colab_type": "code",
        "colab": {}
      },
      "source": [
        "model_json = model.to_json()\n",
        "with open(\"model.json\", \"w\") as json_file:\n",
        "    json_file.write(model_json)\n",
        "# serialize weights to HDF5\n",
        "model.save_weights(\"model.h5\")"
      ],
      "execution_count": null,
      "outputs": []
    },
    {
      "cell_type": "code",
      "metadata": {
        "id": "cLgObeB_Ry_m",
        "colab_type": "code",
        "colab": {
          "base_uri": "https://localhost:8080/",
          "height": 255
        },
        "outputId": "fdc851ac-22b3-4bf9-b0aa-494036197cc2"
      },
      "source": [
        "new_model.summary()"
      ],
      "execution_count": null,
      "outputs": [
        {
          "output_type": "stream",
          "text": [
            "Model: \"sequential\"\n",
            "_________________________________________________________________\n",
            "Layer (type)                 Output Shape              Param #   \n",
            "=================================================================\n",
            "embedding (Embedding)        (None, 12, 13)            69537     \n",
            "_________________________________________________________________\n",
            "bidirectional (Bidirectional (None, 256)               145408    \n",
            "_________________________________________________________________\n",
            "dense (Dense)                (None, 5349)              1374693   \n",
            "=================================================================\n",
            "Total params: 1,589,638\n",
            "Trainable params: 1,589,638\n",
            "Non-trainable params: 0\n",
            "_________________________________________________________________\n"
          ],
          "name": "stdout"
        }
      ]
    },
    {
      "cell_type": "code",
      "metadata": {
        "id": "EOfIa1X3nnlS",
        "colab_type": "code",
        "colab": {}
      },
      "source": [
        "import matplotlib.pyplot as plt\n",
        "\n",
        "\n",
        "def plot_graphs(history, string):\n",
        "  plt.plot(history.history[string])\n",
        "  plt.xlabel(\"Epochs\")\n",
        "  plt.ylabel(string)\n",
        "  plt.show()"
      ],
      "execution_count": null,
      "outputs": []
    },
    {
      "cell_type": "code",
      "metadata": {
        "id": "bZWmWWo0nxkJ",
        "colab_type": "code",
        "colab": {
          "base_uri": "https://localhost:8080/",
          "height": 282
        },
        "outputId": "1bf01c05-e256-4d33-d2e4-f0af75625944"
      },
      "source": [
        "plot_graphs(history, 'accuracy')"
      ],
      "execution_count": null,
      "outputs": [
        {
          "output_type": "display_data",
          "data": {
            "image/png": "[encoded data removed]",
            "text/plain": [
              "<Figure size 432x288 with 1 Axes>"
            ]
          },
          "metadata": {
            "tags": [],
            "needs_background": "light"
          }
        }
      ]
    },
    {
      "cell_type": "code",
      "metadata": {
        "id": "oySPBMrc94d_",
        "colab_type": "code",
        "colab": {
          "base_uri": "https://localhost:8080/",
          "height": 35
        },
        "outputId": "cd5423f5-fd81-44a5-c0ce-14bd3aeb5c02"
      },
      "source": [
        "concat_test = test.groupby(\"user_id\").agg({\"challenge\": lambda x: ' '.join(set(x.dropna()))})\n",
        "concat_test = concat_test.reset_index(drop=True)\n",
        "concat_test[\"challenge\"][0]"
      ],
      "execution_count": null,
      "outputs": [
        {
          "output_type": "execute_result",
          "data": {
            "application/vnd.google.colaboratory.intrinsic": {
              "type": "string"
            },
            "text/plain": [
              "'CI24915 CI24917 CI24958 CI24530 CI23663 CI23714 CI25135 CI25727 CI23855 CI23933'"
            ]
          },
          "metadata": {
            "tags": []
          },
          "execution_count": 16
        }
      ]
    },
    {
      "cell_type": "code",
      "metadata": {
        "id": "YRFzbZwE9GoS",
        "colab_type": "code",
        "colab": {}
      },
      "source": [
        "\n",
        "def getop(seed_text,next_words):  \n",
        "  for _ in range(next_words):\n",
        "    token_list = tokenizer.texts_to_sequences([seed_text])[0]\n",
        "    token_list = pad_sequences([token_list], maxlen=max_sequence_len-1, padding='pre')\n",
        "    predicted = np.argmax(model.predict(token_list), axis=-1)\n",
        "    output_word = \"\"\n",
        "    for word, index in tokenizer.word_index.items():\n",
        "      if index == predicted:\n",
        "        output_word = word\n",
        "        break\n",
        "    seed_text += \" \" + output_word.upper()\n",
        "  return seed_text.split(\" \")[-3:]"
      ],
      "execution_count": null,
      "outputs": []
    },
    {
      "cell_type": "code",
      "metadata": {
        "id": "F6467-B59jqf",
        "colab_type": "code",
        "colab": {
          "base_uri": "https://localhost:8080/",
          "height": 51
        },
        "outputId": "86c0997c-4ce4-4222-b589-a406bbfdb3fc"
      },
      "source": [
        "%%time\n",
        "op_list = []\n",
        "for i in range(len(concat_test)):\n",
        "  seed_text = concat_test[\"challenge\"][i]\n",
        "  next_words = 3\n",
        "  op_list.append(getop(seed_text,next_words))"
      ],
      "execution_count": null,
      "outputs": [
        {
          "output_type": "stream",
          "text": [
            "CPU times: user 1h 2min 4s, sys: 2min 51s, total: 1h 4min 55s\n",
            "Wall time: 58min 56s\n"
          ],
          "name": "stdout"
        }
      ]
    },
    {
      "cell_type": "code",
      "metadata": {
        "id": "qECfXsrtTZp_",
        "colab_type": "code",
        "colab": {}
      },
      "source": [
        ""
      ],
      "execution_count": null,
      "outputs": []
    },
    {
      "cell_type": "code",
      "metadata": {
        "id": "n-kq-EHe-vml",
        "colab_type": "code",
        "colab": {}
      },
      "source": [
        "# %%time\n",
        "# seed_text = concat_test[\"challenge\"][1]\n",
        "# next_words = 3\n",
        "# display(getop(seed_text,next_words))"
      ],
      "execution_count": null,
      "outputs": []
    },
    {
      "cell_type": "code",
      "metadata": {
        "id": "d1va_Org_Z06",
        "colab_type": "code",
        "colab": {}
      },
      "source": [
        "sub[\"challenge\"] = np.array(op_list).reshape(-1,1)"
      ],
      "execution_count": null,
      "outputs": []
    },
    {
      "cell_type": "code",
      "metadata": {
        "id": "YpmLw7heCO6z",
        "colab_type": "code",
        "colab": {
          "base_uri": "https://localhost:8080/",
          "height": 419
        },
        "outputId": "445277a0-f683-4ba0-f8ad-16f0f001056a"
      },
      "source": [
        "sub"
      ],
      "execution_count": null,
      "outputs": [
        {
          "output_type": "execute_result",
          "data": {
            "text/html": [
              "<div>\n",
              "<style scoped>\n",
              "    .dataframe tbody tr th:only-of-type {\n",
              "        vertical-align: middle;\n",
              "    }\n",
              "\n",
              "    .dataframe tbody tr th {\n",
              "        vertical-align: top;\n",
              "    }\n",
              "\n",
              "    .dataframe thead th {\n",
              "        text-align: right;\n",
              "    }\n",
              "</style>\n",
              "<table border=\"1\" class=\"dataframe\">\n",
              "  <thead>\n",
              "    <tr style=\"text-align: right;\">\n",
              "      <th></th>\n",
              "      <th>user_sequence</th>\n",
              "      <th>challenge</th>\n",
              "    </tr>\n",
              "  </thead>\n",
              "  <tbody>\n",
              "    <tr>\n",
              "      <th>0</th>\n",
              "      <td>4577_11</td>\n",
              "      <td>CI23836</td>\n",
              "    </tr>\n",
              "    <tr>\n",
              "      <th>1</th>\n",
              "      <td>4577_12</td>\n",
              "      <td>CI23663</td>\n",
              "    </tr>\n",
              "    <tr>\n",
              "      <th>2</th>\n",
              "      <td>4577_13</td>\n",
              "      <td>CI26051</td>\n",
              "    </tr>\n",
              "    <tr>\n",
              "      <th>3</th>\n",
              "      <td>4578_11</td>\n",
              "      <td>CI23836</td>\n",
              "    </tr>\n",
              "    <tr>\n",
              "      <th>4</th>\n",
              "      <td>4578_12</td>\n",
              "      <td>CI23663</td>\n",
              "    </tr>\n",
              "    <tr>\n",
              "      <th>...</th>\n",
              "      <td>...</td>\n",
              "      <td>...</td>\n",
              "    </tr>\n",
              "    <tr>\n",
              "      <th>119191</th>\n",
              "      <td>113834_12</td>\n",
              "      <td>CI24935</td>\n",
              "    </tr>\n",
              "    <tr>\n",
              "      <th>119192</th>\n",
              "      <td>113834_13</td>\n",
              "      <td>CI24924</td>\n",
              "    </tr>\n",
              "    <tr>\n",
              "      <th>119193</th>\n",
              "      <td>113838_11</td>\n",
              "      <td>CI23714</td>\n",
              "    </tr>\n",
              "    <tr>\n",
              "      <th>119194</th>\n",
              "      <td>113838_12</td>\n",
              "      <td>CI23663</td>\n",
              "    </tr>\n",
              "    <tr>\n",
              "      <th>119195</th>\n",
              "      <td>113838_13</td>\n",
              "      <td>CI26051</td>\n",
              "    </tr>\n",
              "  </tbody>\n",
              "</table>\n",
              "<p>119196 rows × 2 columns</p>\n",
              "</div>"
            ],
            "text/plain": [
              "       user_sequence challenge\n",
              "0            4577_11   CI23836\n",
              "1            4577_12   CI23663\n",
              "2            4577_13   CI26051\n",
              "3            4578_11   CI23836\n",
              "4            4578_12   CI23663\n",
              "...              ...       ...\n",
              "119191     113834_12   CI24935\n",
              "119192     113834_13   CI24924\n",
              "119193     113838_11   CI23714\n",
              "119194     113838_12   CI23663\n",
              "119195     113838_13   CI26051\n",
              "\n",
              "[119196 rows x 2 columns]"
            ]
          },
          "metadata": {
            "tags": []
          },
          "execution_count": 31
        }
      ]
    },
    {
      "cell_type": "code",
      "metadata": {
        "id": "dqVPIdukBKT7",
        "colab_type": "code",
        "colab": {}
      },
      "source": [
        ""
      ],
      "execution_count": null,
      "outputs": []
    },
    {
      "cell_type": "code",
      "metadata": {
        "id": "UjYTcN6RByoR",
        "colab_type": "code",
        "colab": {}
      },
      "source": [
        "sub.drop(\"challenge_out\",axis=1,inplace=True)"
      ],
      "execution_count": null,
      "outputs": []
    },
    {
      "cell_type": "code",
      "metadata": {
        "id": "gRVV4PPZB6Rv",
        "colab_type": "code",
        "colab": {}
      },
      "source": [
        "sub.to_csv(\"submit.csv\",index=False)"
      ],
      "execution_count": null,
      "outputs": []
    },
    {
      "cell_type": "code",
      "metadata": {
        "id": "PcEFQ2t9N5UD",
        "colab_type": "code",
        "colab": {}
      },
      "source": [
        ""
      ],
      "execution_count": null,
      "outputs": []
    }
  ]
}
